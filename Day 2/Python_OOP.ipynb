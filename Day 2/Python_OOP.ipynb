{
 "cells": [
  {
   "cell_type": "code",
   "execution_count": 1,
   "id": "24eb3033",
   "metadata": {},
   "outputs": [],
   "source": [
    "class Employee():\n",
    "    pass"
   ]
  },
  {
   "cell_type": "code",
   "execution_count": 2,
   "id": "d221e0e7",
   "metadata": {},
   "outputs": [],
   "source": [
    "emp1=Employee()\n",
    "emp2=Employee()"
   ]
  },
  {
   "cell_type": "code",
   "execution_count": 3,
   "id": "4e7fde0d",
   "metadata": {},
   "outputs": [
    {
     "name": "stdout",
     "output_type": "stream",
     "text": [
      "<__main__.Employee object at 0x000002891F56CAD0>\n"
     ]
    }
   ],
   "source": [
    "print(emp1)"
   ]
  },
  {
   "cell_type": "code",
   "execution_count": 4,
   "id": "8231a897",
   "metadata": {},
   "outputs": [
    {
     "name": "stdout",
     "output_type": "stream",
     "text": [
      "<__main__.Employee object at 0x000002891F56CC50>\n"
     ]
    }
   ],
   "source": [
    "print(emp2)"
   ]
  },
  {
   "cell_type": "code",
   "execution_count": 12,
   "id": "ed1a0265",
   "metadata": {},
   "outputs": [],
   "source": [
    "emp1.fname=\"Aniket\"#instance variables\n",
    "emp1.lname=\"Patil\"\n",
    "emp1.salary=300000\n",
    "\n",
    "emp2.fname=\"Ankit\"\n",
    "emp2.lname=\"Peters\"\n",
    "emp2.salary=200000"
   ]
  },
  {
   "cell_type": "code",
   "execution_count": 13,
   "id": "79504eaa",
   "metadata": {},
   "outputs": [
    {
     "name": "stdout",
     "output_type": "stream",
     "text": [
      "Aniket Patil   300000\n",
      "Ankit Peters   200000\n"
     ]
    }
   ],
   "source": [
    "print(emp1.fname,emp1.lname,' ',emp1.salary)\n",
    "print(emp2.fname,emp2.lname,' ',emp2.salary)"
   ]
  },
  {
   "cell_type": "code",
   "execution_count": 51,
   "id": "ce16bdf5",
   "metadata": {},
   "outputs": [],
   "source": [
    "class Employee():\n",
    "    def __init__(self,fname,lname,sal):\n",
    "        self.fname=fname\n",
    "        self.lname=lname\n",
    "        self.sal=sal\n",
    "    \n",
    "    def show(self):\n",
    "        print(\"Name: \",self.fname+\" \"+self.lname,' ',\"\\nSalary: \",self.sal)"
   ]
  },
  {
   "cell_type": "code",
   "execution_count": 52,
   "id": "18551290",
   "metadata": {},
   "outputs": [],
   "source": [
    "emp1=Employee('Aniket','Patil',450000)"
   ]
  },
  {
   "cell_type": "code",
   "execution_count": 53,
   "id": "81dc5b02",
   "metadata": {},
   "outputs": [
    {
     "name": "stdout",
     "output_type": "stream",
     "text": [
      "Aniket Patil   450000\n"
     ]
    }
   ],
   "source": [
    "print(emp1.fname,emp1.lname,' ',emp1.sal)"
   ]
  },
  {
   "cell_type": "code",
   "execution_count": 54,
   "id": "971e8576",
   "metadata": {},
   "outputs": [
    {
     "name": "stdout",
     "output_type": "stream",
     "text": [
      "Anil Patt   150000\n"
     ]
    }
   ],
   "source": [
    "emp2=Employee('Anil','Patt',150000)\n",
    "print(emp2.fname,emp2.lname,' ',emp2.sal)"
   ]
  },
  {
   "cell_type": "code",
   "execution_count": 55,
   "id": "c0bb1a42",
   "metadata": {},
   "outputs": [
    {
     "name": "stdout",
     "output_type": "stream",
     "text": [
      "Name:  Aniket Patil   \n",
      "Salary:  450000\n"
     ]
    }
   ],
   "source": [
    "emp1.show()"
   ]
  },
  {
   "cell_type": "code",
   "execution_count": 56,
   "id": "d493e4ae",
   "metadata": {},
   "outputs": [
    {
     "name": "stdout",
     "output_type": "stream",
     "text": [
      "Name:  Anil Patt   \n",
      "Salary:  150000\n"
     ]
    }
   ],
   "source": [
    "emp2.show()"
   ]
  },
  {
   "cell_type": "markdown",
   "id": "d795b1cd",
   "metadata": {},
   "source": [
    "Encapsulation"
   ]
  },
  {
   "cell_type": "code",
   "execution_count": 63,
   "id": "ffad36cb",
   "metadata": {},
   "outputs": [],
   "source": [
    "class Employee():\n",
    "    def __init__(self,fname,lname,sal):\n",
    "        self.fname=fname\n",
    "        self.lname=lname #public variable\n",
    "        self.__sal=sal #Private varibale\n",
    "    \n",
    "    def show(self):\n",
    "        print(\"Name: \",self.fname+\" \"+self.lname,' ',\"\\nSalary: \",self.__sal)"
   ]
  },
  {
   "cell_type": "code",
   "execution_count": 64,
   "id": "ad4efd0e",
   "metadata": {},
   "outputs": [],
   "source": [
    "emp1=Employee('Aniket','Patil',450000)"
   ]
  },
  {
   "cell_type": "code",
   "execution_count": 65,
   "id": "0190d958",
   "metadata": {
    "scrolled": true
   },
   "outputs": [
    {
     "ename": "AttributeError",
     "evalue": "'Employee' object has no attribute 'sal'",
     "output_type": "error",
     "traceback": [
      "\u001b[1;31m---------------------------------------------------------------------------\u001b[0m",
      "\u001b[1;31mAttributeError\u001b[0m                            Traceback (most recent call last)",
      "Cell \u001b[1;32mIn[65], line 1\u001b[0m\n\u001b[1;32m----> 1\u001b[0m \u001b[38;5;28mprint\u001b[39m(emp1\u001b[38;5;241m.\u001b[39mfname,emp1\u001b[38;5;241m.\u001b[39mlname,\u001b[38;5;124m'\u001b[39m\u001b[38;5;124m \u001b[39m\u001b[38;5;124m'\u001b[39m,emp1\u001b[38;5;241m.\u001b[39msal)\n",
      "\u001b[1;31mAttributeError\u001b[0m: 'Employee' object has no attribute 'sal'"
     ]
    }
   ],
   "source": [
    "print(emp1.fname,emp1.lname,' ',emp1.sal)# cant access salary directly as its private"
   ]
  },
  {
   "cell_type": "code",
   "execution_count": 66,
   "id": "9bb29364",
   "metadata": {},
   "outputs": [
    {
     "name": "stdout",
     "output_type": "stream",
     "text": [
      "Name:  Aniket Patil   \n",
      "Salary:  450000\n"
     ]
    }
   ],
   "source": [
    "emp1.show() #salary is accessible from a class method"
   ]
  },
  {
   "cell_type": "markdown",
   "id": "b7929484",
   "metadata": {},
   "source": [
    "Inheritnce"
   ]
  },
  {
   "cell_type": "code",
   "execution_count": 68,
   "id": "f34df11c",
   "metadata": {},
   "outputs": [],
   "source": [
    "#Employee parent class\n",
    "#Employee2 child class\n",
    "class Employee2(Employee):\n",
    "    pass"
   ]
  },
  {
   "cell_type": "code",
   "execution_count": 69,
   "id": "cb2d355b",
   "metadata": {},
   "outputs": [],
   "source": [
    "emp3=Employee2('Pam','Beesly',300000)"
   ]
  },
  {
   "cell_type": "code",
   "execution_count": 70,
   "id": "03ceb1a0",
   "metadata": {},
   "outputs": [
    {
     "name": "stdout",
     "output_type": "stream",
     "text": [
      "Name:  Pam Beesly   \n",
      "Salary:  300000\n"
     ]
    }
   ],
   "source": [
    "emp3.show()"
   ]
  },
  {
   "cell_type": "code",
   "execution_count": null,
   "id": "42574f80",
   "metadata": {},
   "outputs": [],
   "source": []
  }
 ],
 "metadata": {
  "kernelspec": {
   "display_name": "Python 3 (ipykernel)",
   "language": "python",
   "name": "python3"
  },
  "language_info": {
   "codemirror_mode": {
    "name": "ipython",
    "version": 3
   },
   "file_extension": ".py",
   "mimetype": "text/x-python",
   "name": "python",
   "nbconvert_exporter": "python",
   "pygments_lexer": "ipython3",
   "version": "3.11.3"
  }
 },
 "nbformat": 4,
 "nbformat_minor": 5
}
