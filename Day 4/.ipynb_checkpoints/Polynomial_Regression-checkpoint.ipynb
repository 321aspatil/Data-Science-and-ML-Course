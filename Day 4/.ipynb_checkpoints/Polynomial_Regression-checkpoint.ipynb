{
 "cells": [
  {
   "cell_type": "code",
   "execution_count": 2,
   "id": "c3b7949f",
   "metadata": {},
   "outputs": [],
   "source": [
    "import pandas as pd\n",
    "import matplotlib.pyplot as plt"
   ]
  },
  {
   "cell_type": "code",
   "execution_count": 3,
   "id": "b1c5b130",
   "metadata": {},
   "outputs": [],
   "source": [
    "df=pd.read_csv('Salary_Data.csv')"
   ]
  },
  {
   "cell_type": "code",
   "execution_count": 4,
   "id": "c089a0ec",
   "metadata": {},
   "outputs": [
    {
     "data": {
      "text/html": [
       "<div>\n",
       "<style scoped>\n",
       "    .dataframe tbody tr th:only-of-type {\n",
       "        vertical-align: middle;\n",
       "    }\n",
       "\n",
       "    .dataframe tbody tr th {\n",
       "        vertical-align: top;\n",
       "    }\n",
       "\n",
       "    .dataframe thead th {\n",
       "        text-align: right;\n",
       "    }\n",
       "</style>\n",
       "<table border=\"1\" class=\"dataframe\">\n",
       "  <thead>\n",
       "    <tr style=\"text-align: right;\">\n",
       "      <th></th>\n",
       "      <th>YearsExperience</th>\n",
       "      <th>Salary</th>\n",
       "    </tr>\n",
       "  </thead>\n",
       "  <tbody>\n",
       "    <tr>\n",
       "      <th>0</th>\n",
       "      <td>1.1</td>\n",
       "      <td>39343.0</td>\n",
       "    </tr>\n",
       "    <tr>\n",
       "      <th>1</th>\n",
       "      <td>1.3</td>\n",
       "      <td>46205.0</td>\n",
       "    </tr>\n",
       "    <tr>\n",
       "      <th>2</th>\n",
       "      <td>1.5</td>\n",
       "      <td>37731.0</td>\n",
       "    </tr>\n",
       "    <tr>\n",
       "      <th>3</th>\n",
       "      <td>2.0</td>\n",
       "      <td>43525.0</td>\n",
       "    </tr>\n",
       "    <tr>\n",
       "      <th>4</th>\n",
       "      <td>2.2</td>\n",
       "      <td>39891.0</td>\n",
       "    </tr>\n",
       "    <tr>\n",
       "      <th>5</th>\n",
       "      <td>2.9</td>\n",
       "      <td>56642.0</td>\n",
       "    </tr>\n",
       "    <tr>\n",
       "      <th>6</th>\n",
       "      <td>3.0</td>\n",
       "      <td>60150.0</td>\n",
       "    </tr>\n",
       "    <tr>\n",
       "      <th>7</th>\n",
       "      <td>3.2</td>\n",
       "      <td>54445.0</td>\n",
       "    </tr>\n",
       "    <tr>\n",
       "      <th>8</th>\n",
       "      <td>3.2</td>\n",
       "      <td>64445.0</td>\n",
       "    </tr>\n",
       "    <tr>\n",
       "      <th>9</th>\n",
       "      <td>3.7</td>\n",
       "      <td>57189.0</td>\n",
       "    </tr>\n",
       "    <tr>\n",
       "      <th>10</th>\n",
       "      <td>3.9</td>\n",
       "      <td>63218.0</td>\n",
       "    </tr>\n",
       "    <tr>\n",
       "      <th>11</th>\n",
       "      <td>4.0</td>\n",
       "      <td>55794.0</td>\n",
       "    </tr>\n",
       "    <tr>\n",
       "      <th>12</th>\n",
       "      <td>4.0</td>\n",
       "      <td>56957.0</td>\n",
       "    </tr>\n",
       "    <tr>\n",
       "      <th>13</th>\n",
       "      <td>4.1</td>\n",
       "      <td>57081.0</td>\n",
       "    </tr>\n",
       "    <tr>\n",
       "      <th>14</th>\n",
       "      <td>4.5</td>\n",
       "      <td>61111.0</td>\n",
       "    </tr>\n",
       "    <tr>\n",
       "      <th>15</th>\n",
       "      <td>4.9</td>\n",
       "      <td>67938.0</td>\n",
       "    </tr>\n",
       "    <tr>\n",
       "      <th>16</th>\n",
       "      <td>5.1</td>\n",
       "      <td>66029.0</td>\n",
       "    </tr>\n",
       "    <tr>\n",
       "      <th>17</th>\n",
       "      <td>5.3</td>\n",
       "      <td>83088.0</td>\n",
       "    </tr>\n",
       "    <tr>\n",
       "      <th>18</th>\n",
       "      <td>5.9</td>\n",
       "      <td>81363.0</td>\n",
       "    </tr>\n",
       "    <tr>\n",
       "      <th>19</th>\n",
       "      <td>6.0</td>\n",
       "      <td>93940.0</td>\n",
       "    </tr>\n",
       "    <tr>\n",
       "      <th>20</th>\n",
       "      <td>6.8</td>\n",
       "      <td>91738.0</td>\n",
       "    </tr>\n",
       "    <tr>\n",
       "      <th>21</th>\n",
       "      <td>7.1</td>\n",
       "      <td>98273.0</td>\n",
       "    </tr>\n",
       "    <tr>\n",
       "      <th>22</th>\n",
       "      <td>7.9</td>\n",
       "      <td>101302.0</td>\n",
       "    </tr>\n",
       "    <tr>\n",
       "      <th>23</th>\n",
       "      <td>8.2</td>\n",
       "      <td>113812.0</td>\n",
       "    </tr>\n",
       "    <tr>\n",
       "      <th>24</th>\n",
       "      <td>8.7</td>\n",
       "      <td>109431.0</td>\n",
       "    </tr>\n",
       "    <tr>\n",
       "      <th>25</th>\n",
       "      <td>9.0</td>\n",
       "      <td>105582.0</td>\n",
       "    </tr>\n",
       "    <tr>\n",
       "      <th>26</th>\n",
       "      <td>9.5</td>\n",
       "      <td>116969.0</td>\n",
       "    </tr>\n",
       "    <tr>\n",
       "      <th>27</th>\n",
       "      <td>9.6</td>\n",
       "      <td>112635.0</td>\n",
       "    </tr>\n",
       "    <tr>\n",
       "      <th>28</th>\n",
       "      <td>10.3</td>\n",
       "      <td>122391.0</td>\n",
       "    </tr>\n",
       "    <tr>\n",
       "      <th>29</th>\n",
       "      <td>10.5</td>\n",
       "      <td>121872.0</td>\n",
       "    </tr>\n",
       "  </tbody>\n",
       "</table>\n",
       "</div>"
      ],
      "text/plain": [
       "    YearsExperience    Salary\n",
       "0               1.1   39343.0\n",
       "1               1.3   46205.0\n",
       "2               1.5   37731.0\n",
       "3               2.0   43525.0\n",
       "4               2.2   39891.0\n",
       "5               2.9   56642.0\n",
       "6               3.0   60150.0\n",
       "7               3.2   54445.0\n",
       "8               3.2   64445.0\n",
       "9               3.7   57189.0\n",
       "10              3.9   63218.0\n",
       "11              4.0   55794.0\n",
       "12              4.0   56957.0\n",
       "13              4.1   57081.0\n",
       "14              4.5   61111.0\n",
       "15              4.9   67938.0\n",
       "16              5.1   66029.0\n",
       "17              5.3   83088.0\n",
       "18              5.9   81363.0\n",
       "19              6.0   93940.0\n",
       "20              6.8   91738.0\n",
       "21              7.1   98273.0\n",
       "22              7.9  101302.0\n",
       "23              8.2  113812.0\n",
       "24              8.7  109431.0\n",
       "25              9.0  105582.0\n",
       "26              9.5  116969.0\n",
       "27              9.6  112635.0\n",
       "28             10.3  122391.0\n",
       "29             10.5  121872.0"
      ]
     },
     "execution_count": 4,
     "metadata": {},
     "output_type": "execute_result"
    }
   ],
   "source": [
    "df"
   ]
  },
  {
   "cell_type": "code",
   "execution_count": 5,
   "id": "43bb744f",
   "metadata": {},
   "outputs": [],
   "source": [
    "x=df[['YearsExperience']]\n",
    "y=df['Salary']"
   ]
  },
  {
   "cell_type": "code",
   "execution_count": 7,
   "id": "fda9cabb",
   "metadata": {},
   "outputs": [
    {
     "name": "stdout",
     "output_type": "stream",
     "text": [
      "Accuracy : 0.9569566641435086\n"
     ]
    }
   ],
   "source": [
    "from sklearn.linear_model import LinearRegression\n",
    "reg=LinearRegression()\n",
    "reg.fit(x,y)\n",
    "print(\"Accuracy :\",reg.score(x,y))"
   ]
  },
  {
   "cell_type": "markdown",
   "id": "227aae7c",
   "metadata": {},
   "source": [
    "#### Polynomial Transform"
   ]
  },
  {
   "cell_type": "code",
   "execution_count": 67,
   "id": "9421f0df",
   "metadata": {},
   "outputs": [],
   "source": [
    "from sklearn.preprocessing import PolynomialFeatures"
   ]
  },
  {
   "cell_type": "code",
   "execution_count": 68,
   "id": "813f3809",
   "metadata": {},
   "outputs": [],
   "source": [
    "#create the object\n",
    "poly_model=PolynomialFeatures(degree=12)#creates list of x raised to power till nth degree"
   ]
  },
  {
   "cell_type": "code",
   "execution_count": 69,
   "id": "b453b8b9",
   "metadata": {},
   "outputs": [],
   "source": [
    "x_poly=poly_model.fit_transform(x)"
   ]
  },
  {
   "cell_type": "code",
   "execution_count": 70,
   "id": "6f60e3bf",
   "metadata": {},
   "outputs": [
    {
     "data": {
      "text/plain": [
       "array([[1.00000000e+00, 1.10000000e+00, 1.21000000e+00, 1.33100000e+00,\n",
       "        1.46410000e+00, 1.61051000e+00, 1.77156100e+00, 1.94871710e+00,\n",
       "        2.14358881e+00, 2.35794769e+00, 2.59374246e+00, 2.85311671e+00,\n",
       "        3.13842838e+00],\n",
       "       [1.00000000e+00, 1.30000000e+00, 1.69000000e+00, 2.19700000e+00,\n",
       "        2.85610000e+00, 3.71293000e+00, 4.82680900e+00, 6.27485170e+00,\n",
       "        8.15730721e+00, 1.06044994e+01, 1.37858492e+01, 1.79216039e+01,\n",
       "        2.32980851e+01],\n",
       "       [1.00000000e+00, 1.50000000e+00, 2.25000000e+00, 3.37500000e+00,\n",
       "        5.06250000e+00, 7.59375000e+00, 1.13906250e+01, 1.70859375e+01,\n",
       "        2.56289062e+01, 3.84433594e+01, 5.76650391e+01, 8.64975586e+01,\n",
       "        1.29746338e+02],\n",
       "       [1.00000000e+00, 2.00000000e+00, 4.00000000e+00, 8.00000000e+00,\n",
       "        1.60000000e+01, 3.20000000e+01, 6.40000000e+01, 1.28000000e+02,\n",
       "        2.56000000e+02, 5.12000000e+02, 1.02400000e+03, 2.04800000e+03,\n",
       "        4.09600000e+03],\n",
       "       [1.00000000e+00, 2.20000000e+00, 4.84000000e+00, 1.06480000e+01,\n",
       "        2.34256000e+01, 5.15363200e+01, 1.13379904e+02, 2.49435789e+02,\n",
       "        5.48758735e+02, 1.20726922e+03, 2.65599228e+03, 5.84318301e+03,\n",
       "        1.28550026e+04],\n",
       "       [1.00000000e+00, 2.90000000e+00, 8.41000000e+00, 2.43890000e+01,\n",
       "        7.07281000e+01, 2.05111490e+02, 5.94823321e+02, 1.72498763e+03,\n",
       "        5.00246413e+03, 1.45071460e+04, 4.20707233e+04, 1.22005098e+05,\n",
       "        3.53814783e+05],\n",
       "       [1.00000000e+00, 3.00000000e+00, 9.00000000e+00, 2.70000000e+01,\n",
       "        8.10000000e+01, 2.43000000e+02, 7.29000000e+02, 2.18700000e+03,\n",
       "        6.56100000e+03, 1.96830000e+04, 5.90490000e+04, 1.77147000e+05,\n",
       "        5.31441000e+05],\n",
       "       [1.00000000e+00, 3.20000000e+00, 1.02400000e+01, 3.27680000e+01,\n",
       "        1.04857600e+02, 3.35544320e+02, 1.07374182e+03, 3.43597384e+03,\n",
       "        1.09951163e+04, 3.51843721e+04, 1.12589991e+05, 3.60287970e+05,\n",
       "        1.15292150e+06],\n",
       "       [1.00000000e+00, 3.20000000e+00, 1.02400000e+01, 3.27680000e+01,\n",
       "        1.04857600e+02, 3.35544320e+02, 1.07374182e+03, 3.43597384e+03,\n",
       "        1.09951163e+04, 3.51843721e+04, 1.12589991e+05, 3.60287970e+05,\n",
       "        1.15292150e+06],\n",
       "       [1.00000000e+00, 3.70000000e+00, 1.36900000e+01, 5.06530000e+01,\n",
       "        1.87416100e+02, 6.93439570e+02, 2.56572641e+03, 9.49318771e+03,\n",
       "        3.51247945e+04, 1.29961740e+05, 4.80858437e+05, 1.77917622e+06,\n",
       "        6.58295201e+06],\n",
       "       [1.00000000e+00, 3.90000000e+00, 1.52100000e+01, 5.93190000e+01,\n",
       "        2.31344100e+02, 9.02241990e+02, 3.51874376e+03, 1.37231007e+04,\n",
       "        5.35200926e+04, 2.08728361e+05, 8.14040609e+05, 3.17475837e+06,\n",
       "        1.23815577e+07],\n",
       "       [1.00000000e+00, 4.00000000e+00, 1.60000000e+01, 6.40000000e+01,\n",
       "        2.56000000e+02, 1.02400000e+03, 4.09600000e+03, 1.63840000e+04,\n",
       "        6.55360000e+04, 2.62144000e+05, 1.04857600e+06, 4.19430400e+06,\n",
       "        1.67772160e+07],\n",
       "       [1.00000000e+00, 4.00000000e+00, 1.60000000e+01, 6.40000000e+01,\n",
       "        2.56000000e+02, 1.02400000e+03, 4.09600000e+03, 1.63840000e+04,\n",
       "        6.55360000e+04, 2.62144000e+05, 1.04857600e+06, 4.19430400e+06,\n",
       "        1.67772160e+07],\n",
       "       [1.00000000e+00, 4.10000000e+00, 1.68100000e+01, 6.89210000e+01,\n",
       "        2.82576100e+02, 1.15856201e+03, 4.75010424e+03, 1.94754274e+04,\n",
       "        7.98492523e+04, 3.27381934e+05, 1.34226593e+06, 5.50329032e+06,\n",
       "        2.25634903e+07],\n",
       "       [1.00000000e+00, 4.50000000e+00, 2.02500000e+01, 9.11250000e+01,\n",
       "        4.10062500e+02, 1.84528125e+03, 8.30376562e+03, 3.73669453e+04,\n",
       "        1.68151254e+05, 7.56680643e+05, 3.40506289e+06, 1.53227830e+07,\n",
       "        6.89525236e+07],\n",
       "       [1.00000000e+00, 4.90000000e+00, 2.40100000e+01, 1.17649000e+02,\n",
       "        5.76480100e+02, 2.82475249e+03, 1.38412872e+04, 6.78223073e+04,\n",
       "        3.32329306e+05, 1.62841360e+06, 7.97922663e+06, 3.90982105e+07,\n",
       "        1.91581231e+08],\n",
       "       [1.00000000e+00, 5.10000000e+00, 2.60100000e+01, 1.32651000e+02,\n",
       "        6.76520100e+02, 3.45025251e+03, 1.75962878e+04, 8.97410678e+04,\n",
       "        4.57679446e+05, 2.33416517e+06, 1.19042424e+07, 6.07116362e+07,\n",
       "        3.09629344e+08],\n",
       "       [1.00000000e+00, 5.30000000e+00, 2.80900000e+01, 1.48877000e+02,\n",
       "        7.89048100e+02, 4.18195493e+03, 2.21643611e+04, 1.17471114e+05,\n",
       "        6.22596904e+05, 3.29976359e+06, 1.74887470e+07, 9.26903593e+07,\n",
       "        4.91258904e+08],\n",
       "       [1.00000000e+00, 5.90000000e+00, 3.48100000e+01, 2.05379000e+02,\n",
       "        1.21173610e+03, 7.14924299e+03, 4.21805336e+04, 2.48865148e+05,\n",
       "        1.46830438e+06, 8.66299582e+06, 5.11116753e+07, 3.01558884e+08,\n",
       "        1.77919742e+09],\n",
       "       [1.00000000e+00, 6.00000000e+00, 3.60000000e+01, 2.16000000e+02,\n",
       "        1.29600000e+03, 7.77600000e+03, 4.66560000e+04, 2.79936000e+05,\n",
       "        1.67961600e+06, 1.00776960e+07, 6.04661760e+07, 3.62797056e+08,\n",
       "        2.17678234e+09],\n",
       "       [1.00000000e+00, 6.80000000e+00, 4.62400000e+01, 3.14432000e+02,\n",
       "        2.13813760e+03, 1.45393357e+04, 9.88674826e+04, 6.72298882e+05,\n",
       "        4.57163240e+06, 3.10871003e+07, 2.11392282e+08, 1.43746752e+09,\n",
       "        9.77477912e+09],\n",
       "       [1.00000000e+00, 7.10000000e+00, 5.04100000e+01, 3.57911000e+02,\n",
       "        2.54116810e+03, 1.80422935e+04, 1.28100284e+05, 9.09512016e+05,\n",
       "        6.45753531e+06, 4.58485007e+07, 3.25524355e+08, 2.31122292e+09,\n",
       "        1.64096827e+10],\n",
       "       [1.00000000e+00, 7.90000000e+00, 6.24100000e+01, 4.93039000e+02,\n",
       "        3.89500810e+03, 3.07705640e+04, 2.43087456e+05, 1.92039090e+06,\n",
       "        1.51710881e+07, 1.19851596e+08, 9.46827608e+08, 7.47993811e+09,\n",
       "        5.90915110e+10],\n",
       "       [1.00000000e+00, 8.20000000e+00, 6.72400000e+01, 5.51368000e+02,\n",
       "        4.52121760e+03, 3.70739843e+04, 3.04006671e+05, 2.49285471e+06,\n",
       "        2.04414086e+07, 1.67619550e+08, 1.37448031e+09, 1.12707386e+10,\n",
       "        9.24200563e+10],\n",
       "       [1.00000000e+00, 8.70000000e+00, 7.56900000e+01, 6.58503000e+02,\n",
       "        5.72897610e+03, 4.98420921e+04, 4.33626201e+05, 3.77254795e+06,\n",
       "        3.28211672e+07, 2.85544154e+08, 2.48423414e+09, 2.16128370e+10,\n",
       "        1.88031682e+11],\n",
       "       [1.00000000e+00, 9.00000000e+00, 8.10000000e+01, 7.29000000e+02,\n",
       "        6.56100000e+03, 5.90490000e+04, 5.31441000e+05, 4.78296900e+06,\n",
       "        4.30467210e+07, 3.87420489e+08, 3.48678440e+09, 3.13810596e+10,\n",
       "        2.82429536e+11],\n",
       "       [1.00000000e+00, 9.50000000e+00, 9.02500000e+01, 8.57375000e+02,\n",
       "        8.14506250e+03, 7.73780938e+04, 7.35091891e+05, 6.98337296e+06,\n",
       "        6.63420431e+07, 6.30249410e+08, 5.98736939e+09, 5.68800092e+10,\n",
       "        5.40360088e+11],\n",
       "       [1.00000000e+00, 9.60000000e+00, 9.21600000e+01, 8.84736000e+02,\n",
       "        8.49346560e+03, 8.15372698e+04, 7.82757790e+05, 7.51447478e+06,\n",
       "        7.21389579e+07, 6.92533996e+08, 6.64832636e+09, 6.38239331e+10,\n",
       "        6.12709757e+11],\n",
       "       [1.00000000e+00, 1.03000000e+01, 1.06090000e+02, 1.09272700e+03,\n",
       "        1.12550881e+04, 1.15927407e+05, 1.19405230e+06, 1.22987387e+07,\n",
       "        1.26677008e+08, 1.30477318e+09, 1.34391638e+10, 1.38423387e+11,\n",
       "        1.42576089e+12],\n",
       "       [1.00000000e+00, 1.05000000e+01, 1.10250000e+02, 1.15762500e+03,\n",
       "        1.21550625e+04, 1.27628156e+05, 1.34009564e+06, 1.40710042e+07,\n",
       "        1.47745544e+08, 1.55132822e+09, 1.62889463e+10, 1.71033936e+11,\n",
       "        1.79585633e+12]])"
      ]
     },
     "execution_count": 70,
     "metadata": {},
     "output_type": "execute_result"
    }
   ],
   "source": [
    "x_poly"
   ]
  },
  {
   "cell_type": "code",
   "execution_count": 71,
   "id": "2e0fd6e5",
   "metadata": {},
   "outputs": [
    {
     "name": "stdout",
     "output_type": "stream",
     "text": [
      "Accuracy : 0.9830431165773489\n"
     ]
    }
   ],
   "source": [
    "#polynomial regression model\n",
    "poly_reg=LinearRegression()\n",
    "poly_reg.fit(x_poly,y)\n",
    "print(\"Accuracy :\",poly_reg.score(x_poly,y))"
   ]
  },
  {
   "cell_type": "code",
   "execution_count": 72,
   "id": "cc653111",
   "metadata": {
    "scrolled": true
   },
   "outputs": [
    {
     "name": "stdout",
     "output_type": "stream",
     "text": [
      "0  Accuracy : 0.0\n",
      "1  Accuracy : 0.9569566641435086\n",
      "2  Accuracy : 0.956975168321065\n",
      "3  Accuracy : 0.9635969766249464\n",
      "4  Accuracy : 0.9636560599375091\n",
      "5  Accuracy : 0.9665546834956733\n",
      "6  Accuracy : 0.9673693577169906\n",
      "7  Accuracy : 0.9722578921026724\n",
      "8  Accuracy : 0.9728154307146486\n",
      "9  Accuracy : 0.9732969097553397\n",
      "10  Accuracy : 0.9809837442309323\n",
      "11  Accuracy : 0.9821824872488192\n",
      "12  Accuracy : 0.9830431165773489\n",
      "13  Accuracy : 0.9830349074924566\n",
      "14  Accuracy : 0.9819693549315687\n",
      "15  Accuracy : 0.9804883646579642\n",
      "16  Accuracy : 0.9792408677290312\n",
      "17  Accuracy : 0.9800327222617843\n",
      "18  Accuracy : 0.96553643655429\n",
      "19  Accuracy : 0.9585869173869457\n"
     ]
    }
   ],
   "source": [
    "#create the object\n",
    "accuracy=[]\n",
    "for i in range(0,20):\n",
    "    poly_model=PolynomialFeatures(degree=i)#creates list of x raised to power till nth degree\n",
    "    x_poly=poly_model.fit_transform(x)\n",
    "    poly_reg=LinearRegression()\n",
    "    poly_reg.fit(x_poly,y)\n",
    "    print(i,\" Accuracy :\",poly_reg.score(x_poly,y))\n",
    "    accuracy+=poly_reg.score(x_poly,y)"
   ]
  },
  {
   "cell_type": "code",
   "execution_count": 73,
   "id": "7bdafc37",
   "metadata": {},
   "outputs": [
    {
     "data": {
      "text/plain": [
       "[<matplotlib.lines.Line2D at 0x279e3bf6490>]"
      ]
     },
     "execution_count": 73,
     "metadata": {},
     "output_type": "execute_result"
    },
    {
     "data": {
      "image/png": "[encoded data removed]",
      "text/plain": [
       "<Figure size 640x480 with 1 Axes>"
      ]
     },
     "metadata": {},
     "output_type": "display_data"
    }
   ],
   "source": [
    "y_pred=poly_reg.predict(x_poly)\n",
    "plt.scatter(x,y)\n",
    "plt.grid()\n",
    "plt.plot(x,y_pred,color='red')"
   ]
  },
  {
   "cell_type": "code",
   "execution_count": 65,
   "id": "a321ca85",
   "metadata": {},
   "outputs": [
    {
     "data": {
      "text/html": [
       "<style>#sk-container-id-1 {color: black;background-color: white;}#sk-container-id-1 pre{padding: 0;}#sk-container-id-1 div.sk-toggleable {background-color: white;}#sk-container-id-1 label.sk-toggleable__label {cursor: pointer;display: block;width: 100%;margin-bottom: 0;padding: 0.3em;box-sizing: border-box;text-align: center;}#sk-container-id-1 label.sk-toggleable__label-arrow:before {content: \"▸\";float: left;margin-right: 0.25em;color: #696969;}#sk-container-id-1 label.sk-toggleable__label-arrow:hover:before {color: black;}#sk-container-id-1 div.sk-estimator:hover label.sk-toggleable__label-arrow:before {color: black;}#sk-container-id-1 div.sk-toggleable__content {max-height: 0;max-width: 0;overflow: hidden;text-align: left;background-color: #f0f8ff;}#sk-container-id-1 div.sk-toggleable__content pre {margin: 0.2em;color: black;border-radius: 0.25em;background-color: #f0f8ff;}#sk-container-id-1 input.sk-toggleable__control:checked~div.sk-toggleable__content {max-height: 200px;max-width: 100%;overflow: auto;}#sk-container-id-1 input.sk-toggleable__control:checked~label.sk-toggleable__label-arrow:before {content: \"▾\";}#sk-container-id-1 div.sk-estimator input.sk-toggleable__control:checked~label.sk-toggleable__label {background-color: #d4ebff;}#sk-container-id-1 div.sk-label input.sk-toggleable__control:checked~label.sk-toggleable__label {background-color: #d4ebff;}#sk-container-id-1 input.sk-hidden--visually {border: 0;clip: rect(1px 1px 1px 1px);clip: rect(1px, 1px, 1px, 1px);height: 1px;margin: -1px;overflow: hidden;padding: 0;position: absolute;width: 1px;}#sk-container-id-1 div.sk-estimator {font-family: monospace;background-color: #f0f8ff;border: 1px dotted black;border-radius: 0.25em;box-sizing: border-box;margin-bottom: 0.5em;}#sk-container-id-1 div.sk-estimator:hover {background-color: #d4ebff;}#sk-container-id-1 div.sk-parallel-item::after {content: \"\";width: 100%;border-bottom: 1px solid gray;flex-grow: 1;}#sk-container-id-1 div.sk-label:hover label.sk-toggleable__label {background-color: #d4ebff;}#sk-container-id-1 div.sk-serial::before {content: \"\";position: absolute;border-left: 1px solid gray;box-sizing: border-box;top: 0;bottom: 0;left: 50%;z-index: 0;}#sk-container-id-1 div.sk-serial {display: flex;flex-direction: column;align-items: center;background-color: white;padding-right: 0.2em;padding-left: 0.2em;position: relative;}#sk-container-id-1 div.sk-item {position: relative;z-index: 1;}#sk-container-id-1 div.sk-parallel {display: flex;align-items: stretch;justify-content: center;background-color: white;position: relative;}#sk-container-id-1 div.sk-item::before, #sk-container-id-1 div.sk-parallel-item::before {content: \"\";position: absolute;border-left: 1px solid gray;box-sizing: border-box;top: 0;bottom: 0;left: 50%;z-index: -1;}#sk-container-id-1 div.sk-parallel-item {display: flex;flex-direction: column;z-index: 1;position: relative;background-color: white;}#sk-container-id-1 div.sk-parallel-item:first-child::after {align-self: flex-end;width: 50%;}#sk-container-id-1 div.sk-parallel-item:last-child::after {align-self: flex-start;width: 50%;}#sk-container-id-1 div.sk-parallel-item:only-child::after {width: 0;}#sk-container-id-1 div.sk-dashed-wrapped {border: 1px dashed gray;margin: 0 0.4em 0.5em 0.4em;box-sizing: border-box;padding-bottom: 0.4em;background-color: white;}#sk-container-id-1 div.sk-label label {font-family: monospace;font-weight: bold;display: inline-block;line-height: 1.2em;}#sk-container-id-1 div.sk-label-container {text-align: center;}#sk-container-id-1 div.sk-container {/* jupyter's `normalize.less` sets `[hidden] { display: none; }` but bootstrap.min.css set `[hidden] { display: none !important; }` so we also need the `!important` here to be able to override the default hidden behavior on the sphinx rendered scikit-learn.org. See: https://github.com/scikit-learn/scikit-learn/issues/21755 */display: inline-block !important;position: relative;}#sk-container-id-1 div.sk-text-repr-fallback {display: none;}</style><div id=\"sk-container-id-1\" class=\"sk-top-container\"><div class=\"sk-text-repr-fallback\"><pre>LinearRegression()</pre><b>In a Jupyter environment, please rerun this cell to show the HTML representation or trust the notebook. <br />On GitHub, the HTML representation is unable to render, please try loading this page with nbviewer.org.</b></div><div class=\"sk-container\" hidden><div class=\"sk-item\"><div class=\"sk-estimator sk-toggleable\"><input class=\"sk-toggleable__control sk-hidden--visually\" id=\"sk-estimator-id-1\" type=\"checkbox\" checked><label for=\"sk-estimator-id-1\" class=\"sk-toggleable__label sk-toggleable__label-arrow\">LinearRegression</label><div class=\"sk-toggleable__content\"><pre>LinearRegression()</pre></div></div></div></div></div>"
      ],
      "text/plain": [
       "LinearRegression()"
      ]
     },
     "execution_count": 65,
     "metadata": {},
     "output_type": "execute_result"
    }
   ],
   "source": [
    "poly_model=PolynomialFeatures(degree=4)#creates list of x raised to power till nth degree\n",
    "x_poly=poly_model.fit_transform(x)\n",
    "poly_reg=LinearRegression()\n",
    "poly_reg.fit(x_poly,y)"
   ]
  },
  {
   "cell_type": "code",
   "execution_count": 66,
   "id": "dab667a5",
   "metadata": {},
   "outputs": [
    {
     "data": {
      "text/plain": [
       "[<matplotlib.lines.Line2D at 0x279e3d951d0>]"
      ]
     },
     "execution_count": 66,
     "metadata": {},
     "output_type": "execute_result"
    },
    {
     "data": {
      "image/png": "[encoded data removed]",
      "text/plain": [
       "<Figure size 640x480 with 1 Axes>"
      ]
     },
     "metadata": {},
     "output_type": "display_data"
    }
   ],
   "source": [
    "y_pred=poly_reg.predict(x_poly)\n",
    "plt.scatter(x,y)\n",
    "plt.grid()\n",
    "plt.plot(x,y_pred,color='red')"
   ]
  },
  {
   "cell_type": "code",
   "execution_count": null,
   "id": "89be4c18",
   "metadata": {},
   "outputs": [],
   "source": []
  }
 ],
 "metadata": {
  "kernelspec": {
   "display_name": "Python 3 (ipykernel)",
   "language": "python",
   "name": "python3"
  },
  "language_info": {
   "codemirror_mode": {
    "name": "ipython",
    "version": 3
   },
   "file_extension": ".py",
   "mimetype": "text/x-python",
   "name": "python",
   "nbconvert_exporter": "python",
   "pygments_lexer": "ipython3",
   "version": "3.11.3"
  }
 },
 "nbformat": 4,
 "nbformat_minor": 5
}
