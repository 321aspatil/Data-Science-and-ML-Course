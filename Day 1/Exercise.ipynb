{
 "cells": [
  {
   "cell_type": "markdown",
   "id": "6c21846d",
   "metadata": {},
   "source": [
    "Write a program to read Celsius temperature and \n",
    "print equivalent Fahrenheit temperate on screen."
   ]
  },
  {
   "cell_type": "code",
   "execution_count": 5,
   "id": "b66a4124",
   "metadata": {},
   "outputs": [
    {
     "name": "stdout",
     "output_type": "stream",
     "text": [
      "Enter temperature in Celcius100\n",
      "100  in Celcius =  212.0  Fahrenhight\n"
     ]
    }
   ],
   "source": [
    "C=int(input('Enter temperature in Celcius: '))\n",
    "F=(9/5)*C+32\n",
    "print(C,' in Celcius = ',F,' Fahrenhight')"
   ]
  },
  {
   "cell_type": "markdown",
   "id": "605c7dfa",
   "metadata": {},
   "source": [
    "Read radius of the circle from user and find the \n",
    "area and perimeter of it."
   ]
  },
  {
   "cell_type": "code",
   "execution_count": 7,
   "id": "1846ad06",
   "metadata": {},
   "outputs": [
    {
     "name": "stdout",
     "output_type": "stream",
     "text": [
      "Enter Radius of circle: 7\n",
      "Area of Circle=  153.93804002589985\n",
      "Circumference of Circle=  43.982297150257104\n"
     ]
    }
   ],
   "source": [
    "import math\n",
    "r=int(input('Enter Radius of circle: '))\n",
    "ar=math.pi*r*r\n",
    "cr=2*math.pi*r\n",
    "print('Area of Circle= ',ar)\n",
    "print('Circumference of Circle= ',cr)"
   ]
  },
  {
   "cell_type": "markdown",
   "id": "391fbbb7",
   "metadata": {},
   "source": [
    "Read the amount and percentage of interest from \n",
    "the keyboard and find final amount after adding \n",
    "interest in original amount."
   ]
  },
  {
   "cell_type": "code",
   "execution_count": 11,
   "id": "4c1ee0b1",
   "metadata": {},
   "outputs": [
    {
     "name": "stdout",
     "output_type": "stream",
     "text": [
      "Enter the Principal Amount: 1000\n",
      "Enter the Rate of Interest: 5\n",
      "Enter the period: 1\n",
      "The amout to be returned after  1  years is  1050.0\n"
     ]
    }
   ],
   "source": [
    "p=int(input('Enter the Principal Amount: '))\n",
    "r=int(input('Enter the Rate of Interest: '))\n",
    "t=int(input('Enter the period: '))\n",
    "si=p*r*t/100\n",
    "payamt=p+si\n",
    "print('The amout to be returned after ',t,' years is ',payamt)\n"
   ]
  },
  {
   "cell_type": "markdown",
   "id": "d8fd8235",
   "metadata": {},
   "source": [
    "Write a program to read distance value in meters \n",
    "and convert it into centimeters, inches, and yards.\n"
   ]
  },
  {
   "cell_type": "code",
   "execution_count": 12,
   "id": "f23c5a5d",
   "metadata": {},
   "outputs": [
    {
     "name": "stdout",
     "output_type": "stream",
     "text": [
      "Enter distance in meters: 10\n",
      "1000.0 393.7008 10.936129999999999\n"
     ]
    }
   ],
   "source": [
    "d=float(input('Enter distance in meters: '))\n",
    "cm=d*100\n",
    "ih=d*39.37008\n",
    "yr=d*1.093613\n",
    "print(cm,ih,yr)"
   ]
  },
  {
   "cell_type": "markdown",
   "id": "bf7b31d8",
   "metadata": {},
   "source": [
    "Write a program to check whether entered number if prime \n",
    "or not."
   ]
  },
  {
   "cell_type": "code",
   "execution_count": 24,
   "id": "7826c3c4",
   "metadata": {},
   "outputs": [],
   "source": [
    "def factors(n):\n",
    "    flist=[]\n",
    "    for i in range(1,n+1):\n",
    "        if n%i==0:\n",
    "            flist+=[i]\n",
    "    return(flist)\n",
    "def isprime(n):\n",
    "    fl=list()\n",
    "    fl=factors(n)\n",
    "    if len(fl)<=1:\n",
    "        print(n,' is prime')\n",
    "    else:\n",
    "        print(n,' is not prime')"
   ]
  },
  {
   "cell_type": "code",
   "execution_count": 25,
   "id": "8c996486",
   "metadata": {},
   "outputs": [
    {
     "name": "stdout",
     "output_type": "stream",
     "text": [
      "Enter a number: 7\n",
      "7  is not prime\n"
     ]
    }
   ],
   "source": [
    "n=int(input('Enter a number: '))\n",
    "isprime(n)"
   ]
  },
  {
   "cell_type": "code",
   "execution_count": null,
   "id": "67731ca7",
   "metadata": {},
   "outputs": [],
   "source": []
  }
 ],
 "metadata": {
  "kernelspec": {
   "display_name": "Python 3 (ipykernel)",
   "language": "python",
   "name": "python3"
  },
  "language_info": {
   "codemirror_mode": {
    "name": "ipython",
    "version": 3
   },
   "file_extension": ".py",
   "mimetype": "text/x-python",
   "name": "python",
   "nbconvert_exporter": "python",
   "pygments_lexer": "ipython3",
   "version": "3.11.3"
  }
 },
 "nbformat": 4,
 "nbformat_minor": 5
}
