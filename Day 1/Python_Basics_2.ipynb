{
 "cells": [
  {
   "cell_type": "markdown",
   "id": "3d11f575",
   "metadata": {},
   "source": [
    "# Decision Making"
   ]
  },
  {
   "cell_type": "code",
   "execution_count": null,
   "id": "a6b59d4f",
   "metadata": {},
   "outputs": [],
   "source": [
    "num=50"
   ]
  },
  {
   "cell_type": "code",
   "execution_count": null,
   "id": "b79d6cd1",
   "metadata": {},
   "outputs": [],
   "source": [
    "if num>40:\n",
    "    print('Ok')"
   ]
  },
  {
   "cell_type": "code",
   "execution_count": null,
   "id": "c18369bf",
   "metadata": {},
   "outputs": [],
   "source": [
    "num=30\n",
    "if num>40:\n",
    "    print('Ok')\n",
    "else:\n",
    "    print('Not ok')"
   ]
  },
  {
   "cell_type": "markdown",
   "id": "f2febc79",
   "metadata": {},
   "source": [
    "Write a program to check a number is even or odd"
   ]
  },
  {
   "cell_type": "code",
   "execution_count": null,
   "id": "0b4d428c",
   "metadata": {},
   "outputs": [],
   "source": [
    "n=int(input('Enter a number: '))\n",
    "if n%2==0:\n",
    "    print(n,' is even')\n",
    "else:\n",
    "    print(n,' is odd')"
   ]
  },
  {
   "cell_type": "markdown",
   "id": "c42e45c0",
   "metadata": {},
   "source": [
    "write program to chck +ve or -ve number"
   ]
  },
  {
   "cell_type": "code",
   "execution_count": null,
   "id": "69431e1c",
   "metadata": {},
   "outputs": [],
   "source": [
    "n=int(input('Enter a number: '))\n",
    "if n>0:\n",
    "    print(n,' is positive')\n",
    "elif n==0:\n",
    "    print(n,' is Neutral')\n",
    "else:\n",
    "    print(n,' is negative')"
   ]
  },
  {
   "cell_type": "markdown",
   "id": "b433bc76",
   "metadata": {},
   "source": [
    "Write program to check if number is in between 50 and 100"
   ]
  },
  {
   "cell_type": "code",
   "execution_count": null,
   "id": "48f6af4d",
   "metadata": {},
   "outputs": [],
   "source": [
    "n=int(input('Enter a number: '))\n",
    "if n in range(50,101):\n",
    "    print('Correct')\n",
    "else:\n",
    "    print('Wrong')"
   ]
  },
  {
   "cell_type": "markdown",
   "id": "0b95f806",
   "metadata": {},
   "source": [
    "Take 3 user inputs and finds which is greater "
   ]
  },
  {
   "cell_type": "code",
   "execution_count": null,
   "id": "f9155642",
   "metadata": {},
   "outputs": [],
   "source": [
    "n1=int(input('Enter first number:'))\n",
    "n2=int(input('Enter Second number:'))\n",
    "n3=int(input('Enter third number:'))\n",
    "if n1>n2:\n",
    "    if n1>n3:\n",
    "        print(n1,' is greatest')\n",
    "    else:\n",
    "        print(n3,' is greatest')\n",
    "else:\n",
    "    if n2>n3:\n",
    "        print(n2,' is greatest')\n",
    "    else:\n",
    "        print(n3,'is greatest')"
   ]
  },
  {
   "cell_type": "markdown",
   "id": "495d5081",
   "metadata": {},
   "source": [
    "Check for Leap year"
   ]
  },
  {
   "cell_type": "code",
   "execution_count": null,
   "id": "65166fc6",
   "metadata": {},
   "outputs": [],
   "source": [
    "year=int(input('Enter year: '))\n",
    "if year%4==0:\n",
    "    if year%100==0:\n",
    "        if year%400==0: \n",
    "            print(year,'is a leap year')\n",
    "        else:\n",
    "            print(year,'is not a leap year')\n",
    "    else:\n",
    "        print(year,'is a leap year')\n",
    "else:\n",
    "        print(year,'is not a leap year')"
   ]
  },
  {
   "cell_type": "markdown",
   "id": "b52cd5a9",
   "metadata": {},
   "source": [
    "Menu Driven "
   ]
  },
  {
   "cell_type": "code",
   "execution_count": 2,
   "id": "507c415e",
   "metadata": {
    "scrolled": true
   },
   "outputs": [
    {
     "name": "stdout",
     "output_type": "stream",
     "text": [
      "Enter a number 3\n",
      "You Entered  3\n",
      "Select The Operation:\n",
      "1.Squqre\n",
      "2.Cube\n",
      "3.Positive or Negative\n",
      "4.Odd or Even\n",
      "5.Exit\n",
      "4\n",
      "Odd\n",
      "Enter a number 1\n",
      "You Entered  1\n",
      "Select The Operation:\n",
      "1.Squqre\n",
      "2.Cube\n",
      "3.Positive or Negative\n",
      "4.Odd or Even\n",
      "5.Exit\n",
      "5\n"
     ]
    }
   ],
   "source": [
    "'''\n",
    "1.square\n",
    "2.cube\n",
    "3.positive\n",
    "4.negative\n",
    "'''\n",
    "ch=0\n",
    "while ch!=5:\n",
    "    num=int(input('Enter a number '))\n",
    "    print('You Entered ',num)\n",
    "    print('Select The Operation:\\n1.Squqre\\n2.Cube\\n3.Positive or Negative\\n4.Odd or Even\\n5.Exit')\n",
    "    ch=int(input())\n",
    "    if ch==1:\n",
    "        print('Squqre is ',num*num)\n",
    "    elif ch==2:\n",
    "        print('Cube is ',num**3)\n",
    "    elif ch==3:\n",
    "        if num>0:\n",
    "            print('Positive')\n",
    "        else:\n",
    "            print('Negative')\n",
    "    elif ch==4:\n",
    "        if num%2==0:\n",
    "            print('Even')\n",
    "        else:\n",
    "            print('Odd')\n",
    "    elif ch==5:\n",
    "        exit()\n",
    "    else:\n",
    "        print('Please Enter proper choice!')"
   ]
  },
  {
   "cell_type": "markdown",
   "id": "97760bee",
   "metadata": {},
   "source": [
    "While Loop"
   ]
  },
  {
   "cell_type": "code",
   "execution_count": 8,
   "id": "04f4f3e6",
   "metadata": {},
   "outputs": [
    {
     "name": "stdout",
     "output_type": "stream",
     "text": [
      "1\n",
      "2\n",
      "3\n",
      "4\n",
      "5\n"
     ]
    }
   ],
   "source": [
    "count=1\n",
    "while count<6:\n",
    "    print(count)\n",
    "    count+=1"
   ]
  },
  {
   "cell_type": "markdown",
   "id": "ab891b8d",
   "metadata": {},
   "source": [
    "Addition of numbers from 1 to 10"
   ]
  },
  {
   "cell_type": "code",
   "execution_count": 17,
   "id": "38135c50",
   "metadata": {},
   "outputs": [
    {
     "name": "stdout",
     "output_type": "stream",
     "text": [
      "Addition= 55\n"
     ]
    }
   ],
   "source": [
    "addition=0\n",
    "count=1\n",
    "while count<=10:\n",
    "    addition+=count\n",
    "    count+=1\n",
    "\n",
    "print('Addition=',addition)"
   ]
  },
  {
   "cell_type": "markdown",
   "id": "1e6c679a",
   "metadata": {},
   "source": [
    "Addition of odd numbers from 1 to 20"
   ]
  },
  {
   "cell_type": "code",
   "execution_count": 19,
   "id": "acfebf67",
   "metadata": {},
   "outputs": [
    {
     "name": "stdout",
     "output_type": "stream",
     "text": [
      "Addition of Odd numbers= 100\n"
     ]
    }
   ],
   "source": [
    "addition=0\n",
    "count=1\n",
    "while count<=20:\n",
    "    if count%2!=0:\n",
    "        addition+=count\n",
    "    count+=1\n",
    "\n",
    "print('Addition of Odd numbers=',addition)"
   ]
  },
  {
   "cell_type": "markdown",
   "id": "a7c21ae3",
   "metadata": {},
   "source": [
    "find the sum of digits of given number"
   ]
  },
  {
   "cell_type": "code",
   "execution_count": 34,
   "id": "f3029885",
   "metadata": {},
   "outputs": [
    {
     "name": "stdout",
     "output_type": "stream",
     "text": [
      "Enter a number: 12345\n",
      "Sum of digits of  12345  is  15\n"
     ]
    }
   ],
   "source": [
    "add=0\n",
    "n=int(input('Enter a number: '))\n",
    "num=n\n",
    "rem=0\n",
    "while n>0:\n",
    "    rem=n%10\n",
    "    add+=rem\n",
    "    n=n//10\n",
    "\n",
    "print('Sum of digits of ',num,' is ',add)\n"
   ]
  },
  {
   "cell_type": "markdown",
   "id": "50021bf4",
   "metadata": {},
   "source": [
    "For Loop"
   ]
  },
  {
   "cell_type": "code",
   "execution_count": 36,
   "id": "7abc5f68",
   "metadata": {},
   "outputs": [
    {
     "name": "stdout",
     "output_type": "stream",
     "text": [
      "34\n",
      "56\n",
      "78\n",
      "43\n",
      "22\n"
     ]
    }
   ],
   "source": [
    "for n in 34,56,78,43,22:\n",
    "    print(n)"
   ]
  },
  {
   "cell_type": "code",
   "execution_count": 37,
   "id": "189555dc",
   "metadata": {},
   "outputs": [
    {
     "name": "stdout",
     "output_type": "stream",
     "text": [
      "1156\n",
      "3136\n",
      "6084\n",
      "1849\n",
      "484\n"
     ]
    }
   ],
   "source": [
    "for n in 34,56,78,43,22:\n",
    "    print(n**2)"
   ]
  },
  {
   "cell_type": "markdown",
   "id": "2ff27044",
   "metadata": {},
   "source": [
    "Range function"
   ]
  },
  {
   "cell_type": "code",
   "execution_count": 39,
   "id": "dca5762b",
   "metadata": {},
   "outputs": [
    {
     "data": {
      "text/plain": [
       "[1, 2, 3, 4, 5, 6, 7, 8, 9]"
      ]
     },
     "execution_count": 39,
     "metadata": {},
     "output_type": "execute_result"
    }
   ],
   "source": [
    "list(range(1,10))"
   ]
  },
  {
   "cell_type": "code",
   "execution_count": 46,
   "id": "9053a453",
   "metadata": {},
   "outputs": [
    {
     "data": {
      "text/plain": [
       "[0, 2, 4, 6, 8, 10]"
      ]
     },
     "execution_count": 46,
     "metadata": {},
     "output_type": "execute_result"
    }
   ],
   "source": [
    "list(range(0,11,2))"
   ]
  },
  {
   "cell_type": "code",
   "execution_count": 48,
   "id": "46e8064d",
   "metadata": {},
   "outputs": [
    {
     "name": "stdout",
     "output_type": "stream",
     "text": [
      "1 Aniket\n",
      "2 Aniket\n",
      "3 Aniket\n",
      "4 Aniket\n",
      "5 Aniket\n",
      "6 Aniket\n",
      "7 Aniket\n",
      "8 Aniket\n",
      "9 Aniket\n",
      "10 Aniket\n"
     ]
    }
   ],
   "source": [
    "for n in range(10):\n",
    "    print(n+1,'Aniket')"
   ]
  },
  {
   "cell_type": "markdown",
   "id": "b1a97d2f",
   "metadata": {},
   "source": [
    "addition of first 10 natural numbers"
   ]
  },
  {
   "cell_type": "code",
   "execution_count": 50,
   "id": "7e4c33bc",
   "metadata": {},
   "outputs": [
    {
     "name": "stdout",
     "output_type": "stream",
     "text": [
      "55\n"
     ]
    }
   ],
   "source": [
    "sm=0\n",
    "for i in range(1,11):\n",
    "    sm+=i\n",
    "print(sm)"
   ]
  },
  {
   "cell_type": "code",
   "execution_count": 54,
   "id": "e54bd43c",
   "metadata": {},
   "outputs": [
    {
     "name": "stdout",
     "output_type": "stream",
     "text": [
      "0\n",
      "1\n",
      "2\n",
      "3\n",
      "4\n"
     ]
    }
   ],
   "source": [
    "#break statement\n",
    "for x in range(10):\n",
    "    if x==5:\n",
    "        break\n",
    "    print(x)"
   ]
  },
  {
   "cell_type": "code",
   "execution_count": 55,
   "id": "6c0ceb13",
   "metadata": {},
   "outputs": [
    {
     "name": "stdout",
     "output_type": "stream",
     "text": [
      "0\n",
      "1\n",
      "2\n",
      "3\n",
      "4\n",
      "6\n",
      "7\n",
      "8\n",
      "9\n"
     ]
    }
   ],
   "source": [
    "#continue statement\n",
    "for x in range(10):\n",
    "    if x==5:\n",
    "        continue\n",
    "    print(x)"
   ]
  },
  {
   "cell_type": "code",
   "execution_count": null,
   "id": "36715523",
   "metadata": {},
   "outputs": [],
   "source": []
  }
 ],
 "metadata": {
  "kernelspec": {
   "display_name": "Python 3 (ipykernel)",
   "language": "python",
   "name": "python3"
  },
  "language_info": {
   "codemirror_mode": {
    "name": "ipython",
    "version": 3
   },
   "file_extension": ".py",
   "mimetype": "text/x-python",
   "name": "python",
   "nbconvert_exporter": "python",
   "pygments_lexer": "ipython3",
   "version": "3.11.3"
  }
 },
 "nbformat": 4,
 "nbformat_minor": 5
}
