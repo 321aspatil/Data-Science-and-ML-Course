{
 "cells": [
  {
   "cell_type": "code",
   "execution_count": 2,
   "id": "fe99a86a",
   "metadata": {},
   "outputs": [
    {
     "name": "stdout",
     "output_type": "stream",
     "text": [
      "Hello World\n"
     ]
    }
   ],
   "source": [
    "print('Hello World')"
   ]
  },
  {
   "cell_type": "code",
   "execution_count": 3,
   "id": "cc33c742",
   "metadata": {},
   "outputs": [],
   "source": [
    "num=78"
   ]
  },
  {
   "cell_type": "code",
   "execution_count": 4,
   "id": "3b5beacc",
   "metadata": {},
   "outputs": [
    {
     "data": {
      "text/plain": [
       "int"
      ]
     },
     "execution_count": 4,
     "metadata": {},
     "output_type": "execute_result"
    }
   ],
   "source": [
    "type(num)"
   ]
  },
  {
   "cell_type": "code",
   "execution_count": 6,
   "id": "cefc2118",
   "metadata": {},
   "outputs": [],
   "source": [
    "flt=3.14\n",
    "string=\"Aniket\""
   ]
  },
  {
   "cell_type": "code",
   "execution_count": 10,
   "id": "350ae7ee",
   "metadata": {},
   "outputs": [
    {
     "name": "stdout",
     "output_type": "stream",
     "text": [
      "<class 'float'>\n",
      "<class 'str'>\n"
     ]
    }
   ],
   "source": [
    "print(type(flt))\n",
    "print(type(string))"
   ]
  },
  {
   "cell_type": "markdown",
   "id": "6cfae679",
   "metadata": {},
   "source": [
    "* 33 keywords in python"
   ]
  },
  {
   "cell_type": "code",
   "execution_count": 12,
   "id": "8671748c",
   "metadata": {},
   "outputs": [
    {
     "data": {
      "text/plain": [
       "95"
      ]
     },
     "execution_count": 12,
     "metadata": {},
     "output_type": "execute_result"
    }
   ],
   "source": [
    "num=45+50\n",
    "num"
   ]
  },
  {
   "cell_type": "code",
   "execution_count": 3,
   "id": "7021c5b7",
   "metadata": {},
   "outputs": [
    {
     "data": {
      "text/plain": [
       "10000.0"
      ]
     },
     "execution_count": 3,
     "metadata": {},
     "output_type": "execute_result"
    }
   ],
   "source": [
    "y=10e3\n",
    "y"
   ]
  },
  {
   "cell_type": "code",
   "execution_count": 4,
   "id": "a552fba4",
   "metadata": {},
   "outputs": [
    {
     "data": {
      "text/plain": [
       "125"
      ]
     },
     "execution_count": 4,
     "metadata": {},
     "output_type": "execute_result"
    }
   ],
   "source": [
    "# ** is Power operator\n",
    "z=5**3\n",
    "z"
   ]
  },
  {
   "cell_type": "markdown",
   "id": "99dac660",
   "metadata": {},
   "source": [
    "# Headinng 1"
   ]
  },
  {
   "cell_type": "markdown",
   "id": "6ffc1b57",
   "metadata": {},
   "source": [
    "###### Heading 6"
   ]
  },
  {
   "cell_type": "code",
   "execution_count": 5,
   "id": "20fde35b",
   "metadata": {},
   "outputs": [
    {
     "name": "stdout",
     "output_type": "stream",
     "text": [
      "Welcome to Python Programming\n"
     ]
    }
   ],
   "source": [
    "print('Welcome to Python Programming')"
   ]
  },
  {
   "cell_type": "code",
   "execution_count": 6,
   "id": "49bf5d9c",
   "metadata": {},
   "outputs": [
    {
     "name": "stdout",
     "output_type": "stream",
     "text": [
      "Welcome to 'Python' Programming\n"
     ]
    }
   ],
   "source": [
    "print(\"Welcome to 'Python' Programming\")"
   ]
  },
  {
   "cell_type": "code",
   "execution_count": 10,
   "id": "7cb1bb3f",
   "metadata": {},
   "outputs": [],
   "source": [
    "#Multiple assignment\n",
    "num1,num2,sttr=12,4.5,\"Python\""
   ]
  },
  {
   "cell_type": "code",
   "execution_count": 13,
   "id": "a420e95a",
   "metadata": {},
   "outputs": [
    {
     "name": "stdout",
     "output_type": "stream",
     "text": [
      "12 4.5 Python\n"
     ]
    }
   ],
   "source": [
    "print(num1,num2,sttr)"
   ]
  },
  {
   "cell_type": "markdown",
   "id": "6b71eec3",
   "metadata": {},
   "source": [
    "## String Operations"
   ]
  },
  {
   "cell_type": "code",
   "execution_count": 14,
   "id": "a5277c1b",
   "metadata": {},
   "outputs": [],
   "source": [
    "name='Aniket'"
   ]
  },
  {
   "cell_type": "code",
   "execution_count": 15,
   "id": "f572623e",
   "metadata": {},
   "outputs": [
    {
     "data": {
      "text/plain": [
       "'aniket'"
      ]
     },
     "execution_count": 15,
     "metadata": {},
     "output_type": "execute_result"
    }
   ],
   "source": [
    "name.lower()"
   ]
  },
  {
   "cell_type": "code",
   "execution_count": 16,
   "id": "4d06415b",
   "metadata": {},
   "outputs": [
    {
     "data": {
      "text/plain": [
       "'Aniket'"
      ]
     },
     "execution_count": 16,
     "metadata": {},
     "output_type": "execute_result"
    }
   ],
   "source": [
    "name"
   ]
  },
  {
   "cell_type": "code",
   "execution_count": 18,
   "id": "e7bf235f",
   "metadata": {},
   "outputs": [
    {
     "data": {
      "text/plain": [
       "'aniket'"
      ]
     },
     "execution_count": 18,
     "metadata": {},
     "output_type": "execute_result"
    }
   ],
   "source": [
    "name_lwr=name.lower()\n",
    "name_lwr"
   ]
  },
  {
   "cell_type": "code",
   "execution_count": 19,
   "id": "e53c8496",
   "metadata": {},
   "outputs": [
    {
     "data": {
      "text/plain": [
       "'ANIKET'"
      ]
     },
     "execution_count": 19,
     "metadata": {},
     "output_type": "execute_result"
    }
   ],
   "source": [
    "name_upr=name.upper()\n",
    "name_upr"
   ]
  },
  {
   "cell_type": "code",
   "execution_count": 20,
   "id": "091b076d",
   "metadata": {},
   "outputs": [
    {
     "data": {
      "text/plain": [
       "'aNIKET'"
      ]
     },
     "execution_count": 20,
     "metadata": {},
     "output_type": "execute_result"
    }
   ],
   "source": [
    "name_swapcase=name.swapcase()\n",
    "name_swapcase"
   ]
  },
  {
   "cell_type": "code",
   "execution_count": 21,
   "id": "9eaf3145",
   "metadata": {},
   "outputs": [
    {
     "data": {
      "text/plain": [
       "6"
      ]
     },
     "execution_count": 21,
     "metadata": {},
     "output_type": "execute_result"
    }
   ],
   "source": [
    "name_len=len(name)\n",
    "name_len"
   ]
  },
  {
   "cell_type": "code",
   "execution_count": 22,
   "id": "cc256910",
   "metadata": {},
   "outputs": [
    {
     "data": {
      "text/plain": [
       "False"
      ]
     },
     "execution_count": 22,
     "metadata": {},
     "output_type": "execute_result"
    }
   ],
   "source": [
    "name.islower()"
   ]
  },
  {
   "cell_type": "code",
   "execution_count": 23,
   "id": "02ae7954",
   "metadata": {},
   "outputs": [
    {
     "data": {
      "text/plain": [
       "True"
      ]
     },
     "execution_count": 23,
     "metadata": {},
     "output_type": "execute_result"
    }
   ],
   "source": [
    "name_lwr.islower()"
   ]
  },
  {
   "cell_type": "code",
   "execution_count": 24,
   "id": "a232984e",
   "metadata": {},
   "outputs": [
    {
     "data": {
      "text/plain": [
       "True"
      ]
     },
     "execution_count": 24,
     "metadata": {},
     "output_type": "execute_result"
    }
   ],
   "source": [
    "name.istitle()"
   ]
  },
  {
   "cell_type": "code",
   "execution_count": 27,
   "id": "1a2f8bd0",
   "metadata": {},
   "outputs": [
    {
     "data": {
      "text/plain": [
       "' Patil '"
      ]
     },
     "execution_count": 27,
     "metadata": {},
     "output_type": "execute_result"
    }
   ],
   "source": [
    "Lname=\" Patil \"\n",
    "Lname"
   ]
  },
  {
   "cell_type": "code",
   "execution_count": 39,
   "id": "48253d60",
   "metadata": {},
   "outputs": [],
   "source": [
    "Lname=Lname.strip()"
   ]
  },
  {
   "cell_type": "code",
   "execution_count": 40,
   "id": "9668822a",
   "metadata": {},
   "outputs": [
    {
     "data": {
      "text/plain": [
       "True"
      ]
     },
     "execution_count": 40,
     "metadata": {},
     "output_type": "execute_result"
    }
   ],
   "source": [
    "Lname.startswith('Pa')"
   ]
  },
  {
   "cell_type": "code",
   "execution_count": 44,
   "id": "7efb57bf",
   "metadata": {},
   "outputs": [
    {
     "data": {
      "text/plain": [
       "True"
      ]
     },
     "execution_count": 44,
     "metadata": {},
     "output_type": "execute_result"
    }
   ],
   "source": [
    "Lname.endswith('til')"
   ]
  },
  {
   "cell_type": "code",
   "execution_count": 45,
   "id": "16653ae6",
   "metadata": {},
   "outputs": [
    {
     "data": {
      "text/plain": [
       "'C:\\\\Users\\\\321as\\\\OneDrive\\\\Desktop\\\\SEM 6\\\\Data Science VA Course\\\\Day 1'"
      ]
     },
     "execution_count": 45,
     "metadata": {},
     "output_type": "execute_result"
    }
   ],
   "source": [
    "pwd"
   ]
  },
  {
   "cell_type": "code",
   "execution_count": 47,
   "id": "0c287f68",
   "metadata": {},
   "outputs": [
    {
     "data": {
      "text/plain": [
       "'PatiL'"
      ]
     },
     "execution_count": 47,
     "metadata": {},
     "output_type": "execute_result"
    }
   ],
   "source": [
    "Lname.replace('l','L')"
   ]
  },
  {
   "cell_type": "code",
   "execution_count": 53,
   "id": "a792e338",
   "metadata": {},
   "outputs": [
    {
     "data": {
      "text/plain": [
       "1"
      ]
     },
     "execution_count": 53,
     "metadata": {},
     "output_type": "execute_result"
    }
   ],
   "source": [
    "Lname.find('a')"
   ]
  },
  {
   "cell_type": "code",
   "execution_count": 54,
   "id": "7af5a4ad",
   "metadata": {},
   "outputs": [
    {
     "data": {
      "text/plain": [
       "['__add__',\n",
       " '__class__',\n",
       " '__contains__',\n",
       " '__delattr__',\n",
       " '__dir__',\n",
       " '__doc__',\n",
       " '__eq__',\n",
       " '__format__',\n",
       " '__ge__',\n",
       " '__getattribute__',\n",
       " '__getitem__',\n",
       " '__getnewargs__',\n",
       " '__getstate__',\n",
       " '__gt__',\n",
       " '__hash__',\n",
       " '__init__',\n",
       " '__init_subclass__',\n",
       " '__iter__',\n",
       " '__le__',\n",
       " '__len__',\n",
       " '__lt__',\n",
       " '__mod__',\n",
       " '__mul__',\n",
       " '__ne__',\n",
       " '__new__',\n",
       " '__reduce__',\n",
       " '__reduce_ex__',\n",
       " '__repr__',\n",
       " '__rmod__',\n",
       " '__rmul__',\n",
       " '__setattr__',\n",
       " '__sizeof__',\n",
       " '__str__',\n",
       " '__subclasshook__',\n",
       " 'capitalize',\n",
       " 'casefold',\n",
       " 'center',\n",
       " 'count',\n",
       " 'encode',\n",
       " 'endswith',\n",
       " 'expandtabs',\n",
       " 'find',\n",
       " 'format',\n",
       " 'format_map',\n",
       " 'index',\n",
       " 'isalnum',\n",
       " 'isalpha',\n",
       " 'isascii',\n",
       " 'isdecimal',\n",
       " 'isdigit',\n",
       " 'isidentifier',\n",
       " 'islower',\n",
       " 'isnumeric',\n",
       " 'isprintable',\n",
       " 'isspace',\n",
       " 'istitle',\n",
       " 'isupper',\n",
       " 'join',\n",
       " 'ljust',\n",
       " 'lower',\n",
       " 'lstrip',\n",
       " 'maketrans',\n",
       " 'partition',\n",
       " 'removeprefix',\n",
       " 'removesuffix',\n",
       " 'replace',\n",
       " 'rfind',\n",
       " 'rindex',\n",
       " 'rjust',\n",
       " 'rpartition',\n",
       " 'rsplit',\n",
       " 'rstrip',\n",
       " 'split',\n",
       " 'splitlines',\n",
       " 'startswith',\n",
       " 'strip',\n",
       " 'swapcase',\n",
       " 'title',\n",
       " 'translate',\n",
       " 'upper',\n",
       " 'zfill']"
      ]
     },
     "execution_count": 54,
     "metadata": {},
     "output_type": "execute_result"
    }
   ],
   "source": [
    "dir(name)#methods or functions that can be used for particular identifier"
   ]
  },
  {
   "cell_type": "code",
   "execution_count": 56,
   "id": "80d4a1a0",
   "metadata": {},
   "outputs": [
    {
     "name": "stdout",
     "output_type": "stream",
     "text": [
      "Help on built-in function join:\n",
      "\n",
      "join(iterable, /) method of builtins.str instance\n",
      "    Concatenate any number of strings.\n",
      "    \n",
      "    The string whose method is called is inserted in between each given string.\n",
      "    The result is returned as a new string.\n",
      "    \n",
      "    Example: '.'.join(['ab', 'pq', 'rs']) -> 'ab.pq.rs'\n",
      "\n"
     ]
    }
   ],
   "source": [
    "help(name.join)"
   ]
  },
  {
   "cell_type": "code",
   "execution_count": 68,
   "id": "404f62cf",
   "metadata": {},
   "outputs": [],
   "source": [
    "Fname=name+' '+Lname+' 22420006'"
   ]
  },
  {
   "cell_type": "code",
   "execution_count": 69,
   "id": "951c0daf",
   "metadata": {},
   "outputs": [
    {
     "data": {
      "text/plain": [
       "'Aniket Patil 22420006'"
      ]
     },
     "execution_count": 69,
     "metadata": {},
     "output_type": "execute_result"
    }
   ],
   "source": [
    "Fname"
   ]
  },
  {
   "cell_type": "code",
   "execution_count": 71,
   "id": "8ea8ad0a",
   "metadata": {},
   "outputs": [
    {
     "name": "stdout",
     "output_type": "stream",
     "text": [
      "Hello \n",
      "World\n"
     ]
    }
   ],
   "source": [
    "print('Hello \\nWorld')"
   ]
  },
  {
   "cell_type": "code",
   "execution_count": 72,
   "id": "fef216b6",
   "metadata": {},
   "outputs": [
    {
     "name": "stdout",
     "output_type": "stream",
     "text": [
      "Hello\tWorld\n"
     ]
    }
   ],
   "source": [
    "print('Hello\\tWorld')"
   ]
  },
  {
   "cell_type": "code",
   "execution_count": 73,
   "id": "fe143abc",
   "metadata": {},
   "outputs": [
    {
     "name": "stdout",
     "output_type": "stream",
     "text": [
      "Hello\\World\n"
     ]
    }
   ],
   "source": [
    "print('Hello\\\\World')"
   ]
  },
  {
   "cell_type": "code",
   "execution_count": 79,
   "id": "cd816439",
   "metadata": {},
   "outputs": [],
   "source": [
    "doc='''this is first line\n",
    "this is second line'''"
   ]
  },
  {
   "cell_type": "code",
   "execution_count": 80,
   "id": "5753fe18",
   "metadata": {},
   "outputs": [
    {
     "data": {
      "text/plain": [
       "'this is first line\\nthis is second line'"
      ]
     },
     "execution_count": 80,
     "metadata": {},
     "output_type": "execute_result"
    }
   ],
   "source": [
    "doc"
   ]
  },
  {
   "cell_type": "code",
   "execution_count": 82,
   "id": "9f8c346f",
   "metadata": {},
   "outputs": [],
   "source": [
    "name=\"Aniket Patil\"\n",
    "marks=99"
   ]
  },
  {
   "cell_type": "code",
   "execution_count": 83,
   "id": "901a8a6b",
   "metadata": {},
   "outputs": [
    {
     "name": "stdout",
     "output_type": "stream",
     "text": [
      "My name is Aniket and marks are 99\n"
     ]
    }
   ],
   "source": [
    "print('My name is',name,'and marks are',marks)"
   ]
  },
  {
   "cell_type": "code",
   "execution_count": 86,
   "id": "363689e3",
   "metadata": {},
   "outputs": [
    {
     "name": "stdout",
     "output_type": "stream",
     "text": [
      "My name is Aniket Patil 22420006 and marks are 99\n"
     ]
    }
   ],
   "source": [
    "#formatted print\n",
    "print('My name is %s and marks are %i' %(Fname,marks))"
   ]
  },
  {
   "cell_type": "code",
   "execution_count": 87,
   "id": "22e9f2bb",
   "metadata": {},
   "outputs": [
    {
     "name": "stdout",
     "output_type": "stream",
     "text": [
      "My name is Aniket Patil 22420006 and marks are 98.400\n"
     ]
    }
   ],
   "source": [
    "marks=98.4\n",
    "print('My name is %s and marks are %.3f' %(Fname,marks))"
   ]
  },
  {
   "cell_type": "code",
   "execution_count": 88,
   "id": "fb4a8134",
   "metadata": {},
   "outputs": [],
   "source": [
    "city='Kolhapur'"
   ]
  },
  {
   "cell_type": "code",
   "execution_count": 89,
   "id": "37385343",
   "metadata": {},
   "outputs": [
    {
     "name": "stdout",
     "output_type": "stream",
     "text": [
      "Aniket 98.4 Kolhapur\n"
     ]
    }
   ],
   "source": [
    "print(name,marks,city,sep=' ')"
   ]
  },
  {
   "cell_type": "code",
   "execution_count": 90,
   "id": "194b4fbd",
   "metadata": {},
   "outputs": [
    {
     "name": "stdout",
     "output_type": "stream",
     "text": [
      "Aniket*98.4*Kolhapur\n"
     ]
    }
   ],
   "source": [
    "print(name,marks,city,sep='*')"
   ]
  },
  {
   "cell_type": "code",
   "execution_count": 92,
   "id": "6fafff51",
   "metadata": {},
   "outputs": [
    {
     "name": "stdout",
     "output_type": "stream",
     "text": [
      "Aniket 98.4 Kolhapur="
     ]
    }
   ],
   "source": [
    "print(name,marks,city,end='=')"
   ]
  },
  {
   "cell_type": "markdown",
   "id": "db557ef9",
   "metadata": {},
   "source": [
    "## Operators"
   ]
  },
  {
   "cell_type": "code",
   "execution_count": 93,
   "id": "e627b570",
   "metadata": {},
   "outputs": [
    {
     "data": {
      "text/plain": [
       "3"
      ]
     },
     "execution_count": 93,
     "metadata": {},
     "output_type": "execute_result"
    }
   ],
   "source": [
    "10//3#floor division"
   ]
  },
  {
   "cell_type": "code",
   "execution_count": 94,
   "id": "f1571167",
   "metadata": {},
   "outputs": [
    {
     "data": {
      "text/plain": [
       "3.3333333333333335"
      ]
     },
     "execution_count": 94,
     "metadata": {},
     "output_type": "execute_result"
    }
   ],
   "source": [
    "10/3"
   ]
  },
  {
   "cell_type": "code",
   "execution_count": 95,
   "id": "03911bbb",
   "metadata": {},
   "outputs": [
    {
     "data": {
      "text/plain": [
       "1"
      ]
     },
     "execution_count": 95,
     "metadata": {},
     "output_type": "execute_result"
    }
   ],
   "source": [
    "10%3"
   ]
  },
  {
   "cell_type": "code",
   "execution_count": 96,
   "id": "d92c0106",
   "metadata": {},
   "outputs": [
    {
     "data": {
      "text/plain": [
       "0.1"
      ]
     },
     "execution_count": 96,
     "metadata": {},
     "output_type": "execute_result"
    }
   ],
   "source": [
    "10**-1"
   ]
  },
  {
   "cell_type": "markdown",
   "id": "e24e0a9a",
   "metadata": {},
   "source": [
    "#### Relational Operators"
   ]
  },
  {
   "cell_type": "code",
   "execution_count": 97,
   "id": "856c68b6",
   "metadata": {},
   "outputs": [],
   "source": [
    "num1=10\n",
    "num2=78"
   ]
  },
  {
   "cell_type": "code",
   "execution_count": 98,
   "id": "e00a68f2",
   "metadata": {},
   "outputs": [
    {
     "data": {
      "text/plain": [
       "True"
      ]
     },
     "execution_count": 98,
     "metadata": {},
     "output_type": "execute_result"
    }
   ],
   "source": [
    "num1<num2"
   ]
  },
  {
   "cell_type": "code",
   "execution_count": 99,
   "id": "79ca6377",
   "metadata": {},
   "outputs": [
    {
     "data": {
      "text/plain": [
       "False"
      ]
     },
     "execution_count": 99,
     "metadata": {},
     "output_type": "execute_result"
    }
   ],
   "source": [
    "num1>num2"
   ]
  },
  {
   "cell_type": "code",
   "execution_count": 100,
   "id": "2451c0e6",
   "metadata": {},
   "outputs": [
    {
     "data": {
      "text/plain": [
       "True"
      ]
     },
     "execution_count": 100,
     "metadata": {},
     "output_type": "execute_result"
    }
   ],
   "source": [
    "num1!=num2"
   ]
  },
  {
   "cell_type": "code",
   "execution_count": 102,
   "id": "1b787c9c",
   "metadata": {},
   "outputs": [
    {
     "data": {
      "text/plain": [
       "False"
      ]
     },
     "execution_count": 102,
     "metadata": {},
     "output_type": "execute_result"
    }
   ],
   "source": [
    "num1==num2"
   ]
  },
  {
   "cell_type": "markdown",
   "id": "b03fab69",
   "metadata": {},
   "source": [
    "#### Assignment operator"
   ]
  },
  {
   "cell_type": "code",
   "execution_count": 106,
   "id": "4bd0a68b",
   "metadata": {},
   "outputs": [],
   "source": [
    " num1=10"
   ]
  },
  {
   "cell_type": "code",
   "execution_count": 107,
   "id": "563e4fa5",
   "metadata": {},
   "outputs": [],
   "source": [
    "num1+=20"
   ]
  },
  {
   "cell_type": "code",
   "execution_count": 108,
   "id": "77d8122f",
   "metadata": {},
   "outputs": [
    {
     "data": {
      "text/plain": [
       "30"
      ]
     },
     "execution_count": 108,
     "metadata": {},
     "output_type": "execute_result"
    }
   ],
   "source": [
    "num1"
   ]
  },
  {
   "cell_type": "code",
   "execution_count": 110,
   "id": "3b3b05f5",
   "metadata": {},
   "outputs": [
    {
     "data": {
      "text/plain": [
       "10"
      ]
     },
     "execution_count": 110,
     "metadata": {},
     "output_type": "execute_result"
    }
   ],
   "source": [
    "num1-=10\n",
    "num1"
   ]
  },
  {
   "cell_type": "markdown",
   "id": "2c3dc096",
   "metadata": {},
   "source": [
    "#### Logical Operators"
   ]
  },
  {
   "cell_type": "code",
   "execution_count": 111,
   "id": "7f1777e5",
   "metadata": {},
   "outputs": [
    {
     "data": {
      "text/plain": [
       "False"
      ]
     },
     "execution_count": 111,
     "metadata": {},
     "output_type": "execute_result"
    }
   ],
   "source": [
    "num1>num2 and num1==10"
   ]
  },
  {
   "cell_type": "code",
   "execution_count": 113,
   "id": "7198b54a",
   "metadata": {},
   "outputs": [
    {
     "data": {
      "text/plain": [
       "True"
      ]
     },
     "execution_count": 113,
     "metadata": {},
     "output_type": "execute_result"
    }
   ],
   "source": [
    "num1>num2 or num1==10"
   ]
  },
  {
   "cell_type": "markdown",
   "id": "4d051815",
   "metadata": {},
   "source": [
    "### Typecasting"
   ]
  },
  {
   "cell_type": "code",
   "execution_count": 114,
   "id": "e1edd179",
   "metadata": {},
   "outputs": [],
   "source": [
    "n1=10\n",
    "n2=11.33"
   ]
  },
  {
   "cell_type": "code",
   "execution_count": 115,
   "id": "ee6a36fa",
   "metadata": {},
   "outputs": [
    {
     "data": {
      "text/plain": [
       "21.33"
      ]
     },
     "execution_count": 115,
     "metadata": {},
     "output_type": "execute_result"
    }
   ],
   "source": [
    "n1+n2"
   ]
  },
  {
   "cell_type": "code",
   "execution_count": 116,
   "id": "562d1ac0",
   "metadata": {},
   "outputs": [
    {
     "data": {
      "text/plain": [
       "21"
      ]
     },
     "execution_count": 116,
     "metadata": {},
     "output_type": "execute_result"
    }
   ],
   "source": [
    "n1+int(n2)"
   ]
  },
  {
   "cell_type": "markdown",
   "id": "d824bd96",
   "metadata": {},
   "source": [
    "### User input"
   ]
  },
  {
   "cell_type": "code",
   "execution_count": 119,
   "id": "fe8edeab",
   "metadata": {},
   "outputs": [
    {
     "name": "stdout",
     "output_type": "stream",
     "text": [
      "Enter n1=10\n",
      "Enter n2=20\n"
     ]
    },
    {
     "data": {
      "text/plain": [
       "30"
      ]
     },
     "execution_count": 119,
     "metadata": {},
     "output_type": "execute_result"
    }
   ],
   "source": [
    "n1=int(input('Enter n1='))\n",
    "n2=int(input('Enter n2='))\n",
    "n3=n1+n2\n",
    "n3"
   ]
  },
  {
   "cell_type": "code",
   "execution_count": null,
   "id": "55189a97",
   "metadata": {},
   "outputs": [],
   "source": []
  }
 ],
 "metadata": {
  "kernelspec": {
   "display_name": "Python 3 (ipykernel)",
   "language": "python",
   "name": "python3"
  },
  "language_info": {
   "codemirror_mode": {
    "name": "ipython",
    "version": 3
   },
   "file_extension": ".py",
   "mimetype": "text/x-python",
   "name": "python",
   "nbconvert_exporter": "python",
   "pygments_lexer": "ipython3",
   "version": "3.11.3"
  }
 },
 "nbformat": 4,
 "nbformat_minor": 5
}
