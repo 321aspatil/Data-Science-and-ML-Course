{
 "cells": [
  {
   "cell_type": "markdown",
   "id": "1b6ca4c8",
   "metadata": {},
   "source": [
    "# Decision Making"
   ]
  },
  {
   "cell_type": "code",
   "execution_count": 1,
   "id": "ecb93498",
   "metadata": {},
   "outputs": [],
   "source": [
    "num=50"
   ]
  },
  {
   "cell_type": "code",
   "execution_count": 2,
   "id": "cc526e63",
   "metadata": {},
   "outputs": [
    {
     "name": "stdout",
     "output_type": "stream",
     "text": [
      "Ok\n"
     ]
    }
   ],
   "source": [
    "if num>40:\n",
    "    print('Ok')"
   ]
  },
  {
   "cell_type": "code",
   "execution_count": 3,
   "id": "6a0a91a5",
   "metadata": {},
   "outputs": [
    {
     "name": "stdout",
     "output_type": "stream",
     "text": [
      "Not ok\n"
     ]
    }
   ],
   "source": [
    "num=30\n",
    "if num>40:\n",
    "    print('Ok')\n",
    "else:\n",
    "    print('Not ok')"
   ]
  },
  {
   "cell_type": "markdown",
   "id": "565f0925",
   "metadata": {},
   "source": [
    "Write a program to check a number is even or odd"
   ]
  },
  {
   "cell_type": "code",
   "execution_count": 4,
   "id": "e7d13d24",
   "metadata": {},
   "outputs": [
    {
     "name": "stdout",
     "output_type": "stream",
     "text": [
      "Enter a number: 1\n",
      "1  is odd\n"
     ]
    }
   ],
   "source": [
    "n=int(input('Enter a number: '))\n",
    "if n%2==0:\n",
    "    print(n,' is even')\n",
    "else:\n",
    "    print(n,' is odd')"
   ]
  },
  {
   "cell_type": "markdown",
   "id": "066f55e0",
   "metadata": {},
   "source": [
    "write program to chck +ve or -ve number"
   ]
  },
  {
   "cell_type": "code",
   "execution_count": 5,
   "id": "ee3a37c6",
   "metadata": {},
   "outputs": [
    {
     "name": "stdout",
     "output_type": "stream",
     "text": [
      "Enter a number: 1\n",
      "1  is positive\n"
     ]
    }
   ],
   "source": [
    "n=int(input('Enter a number: '))\n",
    "if n>0:\n",
    "    print(n,' is positive')\n",
    "elif n==0:\n",
    "    print(n,' is Neutral')\n",
    "else:\n",
    "    print(n,' is negative')"
   ]
  },
  {
   "cell_type": "markdown",
   "id": "0c79d7d2",
   "metadata": {},
   "source": [
    "Write program to check if number is in between 50 and 100"
   ]
  },
  {
   "cell_type": "code",
   "execution_count": 6,
   "id": "d5864ede",
   "metadata": {},
   "outputs": [
    {
     "name": "stdout",
     "output_type": "stream",
     "text": [
      "Enter a number: 1\n",
      "Wrong\n"
     ]
    }
   ],
   "source": [
    "n=int(input('Enter a number: '))\n",
    "if n in range(50,101):\n",
    "    print('Correct')\n",
    "else:\n",
    "    print('Wrong')"
   ]
  },
  {
   "cell_type": "markdown",
   "id": "b41f9012",
   "metadata": {},
   "source": [
    "Take 3 user inputs and finds which is greater "
   ]
  },
  {
   "cell_type": "code",
   "execution_count": 7,
   "id": "76009fd5",
   "metadata": {},
   "outputs": [
    {
     "name": "stdout",
     "output_type": "stream",
     "text": [
      "Enter first number:1\n",
      "Enter Second number:2\n",
      "Enter third number:3\n",
      "3 is greatest\n"
     ]
    }
   ],
   "source": [
    "n1=int(input('Enter first number:'))\n",
    "n2=int(input('Enter Second number:'))\n",
    "n3=int(input('Enter third number:'))\n",
    "if n1>n2:\n",
    "    if n1>n3:\n",
    "        print(n1,' is greatest')\n",
    "    else:\n",
    "        print(n3,' is greatest')\n",
    "else:\n",
    "    if n2>n3:\n",
    "        print(n2,' is greatest')\n",
    "    else:\n",
    "        print(n3,'is greatest')"
   ]
  },
  {
   "cell_type": "markdown",
   "id": "2499b7bb",
   "metadata": {},
   "source": [
    "check for Leap year"
   ]
  },
  {
   "cell_type": "code",
   "execution_count": 19,
   "id": "4f7b2eed",
   "metadata": {},
   "outputs": [
    {
     "name": "stdout",
     "output_type": "stream",
     "text": [
      "Enter year: 1800\n"
     ]
    }
   ],
   "source": [
    "year=int(input('Enter year: '))\n",
    "if year%4==0:\n",
    "    if year%100==0:\n",
    "        if year%400==0: \n",
    "            print(year,'is a leap year')\n",
    "        else:\n",
    "            print(year,'is not a leap year')\n",
    "    else:\n",
    "        print(year,'is not a leap year')"
   ]
  },
  {
   "cell_type": "code",
   "execution_count": null,
   "id": "073df475",
   "metadata": {},
   "outputs": [],
   "source": []
  },
  {
   "cell_type": "code",
   "execution_count": null,
   "id": "9bc9c318",
   "metadata": {},
   "outputs": [],
   "source": []
  }
 ],
 "metadata": {
  "kernelspec": {
   "display_name": "Python 3 (ipykernel)",
   "language": "python",
   "name": "python3"
  },
  "language_info": {
   "codemirror_mode": {
    "name": "ipython",
    "version": 3
   },
   "file_extension": ".py",
   "mimetype": "text/x-python",
   "name": "python",
   "nbconvert_exporter": "python",
   "pygments_lexer": "ipython3",
   "version": "3.11.3"
  }
 },
 "nbformat": 4,
 "nbformat_minor": 5
}
