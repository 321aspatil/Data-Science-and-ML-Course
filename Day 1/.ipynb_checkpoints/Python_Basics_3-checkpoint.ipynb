{
 "cells": [
  {
   "cell_type": "markdown",
   "id": "4906ef51",
   "metadata": {},
   "source": [
    "List"
   ]
  },
  {
   "cell_type": "markdown",
   "id": "5659011c",
   "metadata": {},
   "source": [
    "Properties\n",
    "\n",
    "* duplicate values are allowed in list\n",
    "* lists are hetrogeneous type\n",
    "* lists ordered\n",
    "* lists mutable\n"
   ]
  },
  {
   "cell_type": "code",
   "execution_count": 3,
   "id": "0a3540a4",
   "metadata": {},
   "outputs": [],
   "source": [
    "l=[23,45,67,89,65,78,23,78]"
   ]
  },
  {
   "cell_type": "code",
   "execution_count": 4,
   "id": "100e1ab9",
   "metadata": {},
   "outputs": [
    {
     "data": {
      "text/plain": [
       "list"
      ]
     },
     "execution_count": 4,
     "metadata": {},
     "output_type": "execute_result"
    }
   ],
   "source": [
    "type(l)"
   ]
  },
  {
   "cell_type": "code",
   "execution_count": 5,
   "id": "085f28d1",
   "metadata": {},
   "outputs": [
    {
     "data": {
      "text/plain": [
       "[23, 45, 67, 89, 65, 78, 23, 78]"
      ]
     },
     "execution_count": 5,
     "metadata": {},
     "output_type": "execute_result"
    }
   ],
   "source": [
    "l"
   ]
  },
  {
   "cell_type": "code",
   "execution_count": 6,
   "id": "929608f0",
   "metadata": {},
   "outputs": [],
   "source": [
    "l2=[23,45,67,89,65,78,'Aniket',23.55,78]"
   ]
  },
  {
   "cell_type": "code",
   "execution_count": 8,
   "id": "ac3702f8",
   "metadata": {},
   "outputs": [
    {
     "data": {
      "text/plain": [
       "[23, 45, 67, 89, 65, 78, 'Aniket', 23.55, 78]"
      ]
     },
     "execution_count": 8,
     "metadata": {},
     "output_type": "execute_result"
    }
   ],
   "source": [
    "l2"
   ]
  },
  {
   "cell_type": "code",
   "execution_count": 9,
   "id": "63b06407",
   "metadata": {},
   "outputs": [
    {
     "data": {
      "text/plain": [
       "[23, 45, 67, 89, 65, 78, 23, 78]"
      ]
     },
     "execution_count": 9,
     "metadata": {},
     "output_type": "execute_result"
    }
   ],
   "source": [
    "l"
   ]
  },
  {
   "cell_type": "code",
   "execution_count": 16,
   "id": "3d991080",
   "metadata": {},
   "outputs": [
    {
     "data": {
      "text/plain": [
       "45"
      ]
     },
     "execution_count": 16,
     "metadata": {},
     "output_type": "execute_result"
    }
   ],
   "source": [
    "l[1]"
   ]
  },
  {
   "cell_type": "code",
   "execution_count": 17,
   "id": "1244597f",
   "metadata": {},
   "outputs": [
    {
     "data": {
      "text/plain": [
       "78"
      ]
     },
     "execution_count": 17,
     "metadata": {},
     "output_type": "execute_result"
    }
   ],
   "source": [
    "l[-1]"
   ]
  },
  {
   "cell_type": "code",
   "execution_count": 18,
   "id": "a81ef600",
   "metadata": {},
   "outputs": [],
   "source": [
    "l[1]=15"
   ]
  },
  {
   "cell_type": "code",
   "execution_count": 19,
   "id": "925e3cfa",
   "metadata": {},
   "outputs": [
    {
     "data": {
      "text/plain": [
       "[23, 15, 67, 89, 65, 78, 23, 78]"
      ]
     },
     "execution_count": 19,
     "metadata": {},
     "output_type": "execute_result"
    }
   ],
   "source": [
    "l"
   ]
  },
  {
   "cell_type": "markdown",
   "id": "dc8c1389",
   "metadata": {},
   "source": [
    "Slicing"
   ]
  },
  {
   "cell_type": "code",
   "execution_count": 20,
   "id": "0100a383",
   "metadata": {},
   "outputs": [
    {
     "data": {
      "text/plain": [
       "[23, 15, 67, 89, 65, 78, 23, 78]"
      ]
     },
     "execution_count": 20,
     "metadata": {},
     "output_type": "execute_result"
    }
   ],
   "source": [
    "l"
   ]
  },
  {
   "cell_type": "code",
   "execution_count": 23,
   "id": "9fd48b69",
   "metadata": {},
   "outputs": [
    {
     "data": {
      "text/plain": [
       "[15, 67, 89, 65, 78]"
      ]
     },
     "execution_count": 23,
     "metadata": {},
     "output_type": "execute_result"
    }
   ],
   "source": [
    "l[1:6]"
   ]
  },
  {
   "cell_type": "code",
   "execution_count": 24,
   "id": "96f0b2cf",
   "metadata": {},
   "outputs": [
    {
     "data": {
      "text/plain": [
       "[15, 67, 89, 65, 78, 23, 78]"
      ]
     },
     "execution_count": 24,
     "metadata": {},
     "output_type": "execute_result"
    }
   ],
   "source": [
    "l[1:]"
   ]
  },
  {
   "cell_type": "code",
   "execution_count": 26,
   "id": "e3313690",
   "metadata": {},
   "outputs": [
    {
     "data": {
      "text/plain": [
       "[23, 15, 67, 89, 65]"
      ]
     },
     "execution_count": 26,
     "metadata": {},
     "output_type": "execute_result"
    }
   ],
   "source": [
    "l[:5]"
   ]
  },
  {
   "cell_type": "code",
   "execution_count": 29,
   "id": "ed5383e1",
   "metadata": {},
   "outputs": [
    {
     "data": {
      "text/plain": [
       "[15, 89, 78]"
      ]
     },
     "execution_count": 29,
     "metadata": {},
     "output_type": "execute_result"
    }
   ],
   "source": [
    "l[1:6:2] #parameters [start,end+1,step]"
   ]
  },
  {
   "cell_type": "code",
   "execution_count": 31,
   "id": "a84feab7",
   "metadata": {},
   "outputs": [],
   "source": [
    "l[1:4]=[1,11,111]"
   ]
  },
  {
   "cell_type": "code",
   "execution_count": 32,
   "id": "33c3e2ff",
   "metadata": {},
   "outputs": [
    {
     "data": {
      "text/plain": [
       "[23, 1, 11, 111, 65, 78, 23, 78]"
      ]
     },
     "execution_count": 32,
     "metadata": {},
     "output_type": "execute_result"
    }
   ],
   "source": [
    "l"
   ]
  },
  {
   "cell_type": "code",
   "execution_count": 34,
   "id": "dd83bbb8",
   "metadata": {},
   "outputs": [],
   "source": [
    "l[1::2]=[2,22,222,2222]"
   ]
  },
  {
   "cell_type": "code",
   "execution_count": 35,
   "id": "f2dbe757",
   "metadata": {},
   "outputs": [
    {
     "data": {
      "text/plain": [
       "[23, 2, 11, 22, 65, 222, 23, 2222]"
      ]
     },
     "execution_count": 35,
     "metadata": {},
     "output_type": "execute_result"
    }
   ],
   "source": [
    "l"
   ]
  },
  {
   "cell_type": "code",
   "execution_count": 36,
   "id": "1cde2eb8",
   "metadata": {},
   "outputs": [
    {
     "data": {
      "text/plain": [
       "True"
      ]
     },
     "execution_count": 36,
     "metadata": {},
     "output_type": "execute_result"
    }
   ],
   "source": [
    "23 in l # in operator"
   ]
  },
  {
   "cell_type": "code",
   "execution_count": 37,
   "id": "0a8baf26",
   "metadata": {},
   "outputs": [
    {
     "data": {
      "text/plain": [
       "False"
      ]
     },
     "execution_count": 37,
     "metadata": {},
     "output_type": "execute_result"
    }
   ],
   "source": [
    "33 in l"
   ]
  },
  {
   "cell_type": "code",
   "execution_count": 40,
   "id": "d559a405",
   "metadata": {},
   "outputs": [],
   "source": [
    "del l[1] #remove"
   ]
  },
  {
   "cell_type": "code",
   "execution_count": 41,
   "id": "8e05473f",
   "metadata": {},
   "outputs": [
    {
     "data": {
      "text/plain": [
       "[23, 11, 22, 65, 222, 23, 2222]"
      ]
     },
     "execution_count": 41,
     "metadata": {},
     "output_type": "execute_result"
    }
   ],
   "source": [
    "l"
   ]
  },
  {
   "cell_type": "code",
   "execution_count": 42,
   "id": "d827660f",
   "metadata": {},
   "outputs": [
    {
     "data": {
      "text/plain": [
       "[23, 11, 22, 65, 222, 23, 2222, 23, 11, 22, 65, 222, 23, 2222]"
      ]
     },
     "execution_count": 42,
     "metadata": {},
     "output_type": "execute_result"
    }
   ],
   "source": [
    "l*2"
   ]
  },
  {
   "cell_type": "code",
   "execution_count": 44,
   "id": "c2db507a",
   "metadata": {},
   "outputs": [],
   "source": [
    "l+=[99,990]"
   ]
  },
  {
   "cell_type": "code",
   "execution_count": 45,
   "id": "df686232",
   "metadata": {},
   "outputs": [
    {
     "data": {
      "text/plain": [
       "[23, 11, 22, 65, 222, 23, 2222, 99, 990]"
      ]
     },
     "execution_count": 45,
     "metadata": {},
     "output_type": "execute_result"
    }
   ],
   "source": [
    "l"
   ]
  },
  {
   "cell_type": "markdown",
   "id": "443537d4",
   "metadata": {},
   "source": [
    "find odd elements in the list"
   ]
  },
  {
   "cell_type": "code",
   "execution_count": 47,
   "id": "0b6799a7",
   "metadata": {},
   "outputs": [
    {
     "name": "stdout",
     "output_type": "stream",
     "text": [
      "23 is odd\n",
      "11 is odd\n",
      "22 is even\n",
      "65 is odd\n",
      "222 is even\n",
      "23 is odd\n",
      "2222 is even\n",
      "99 is odd\n",
      "990 is even\n",
      "Even Numbers Count: 4\n",
      "Odd Numbers Count: 5\n"
     ]
    }
   ],
   "source": [
    "evenc=0\n",
    "oddc=0\n",
    "for i in l:\n",
    "    if i%2!=0:\n",
    "        oddc+=1;\n",
    "        print(i,'is odd')\n",
    "    else:\n",
    "        evenc+=1\n",
    "        print(i,'is even')\n",
    "\n",
    "print('Even Numbers Count:',evenc)\n",
    "print('Odd Numbers Count:',oddc)"
   ]
  },
  {
   "cell_type": "code",
   "execution_count": 48,
   "id": "d77ea61d",
   "metadata": {},
   "outputs": [],
   "source": [
    "e=[]"
   ]
  },
  {
   "cell_type": "code",
   "execution_count": 49,
   "id": "8f156054",
   "metadata": {},
   "outputs": [
    {
     "ename": "IndexError",
     "evalue": "list index out of range",
     "output_type": "error",
     "traceback": [
      "\u001b[1;31m---------------------------------------------------------------------------\u001b[0m",
      "\u001b[1;31mIndexError\u001b[0m                                Traceback (most recent call last)",
      "Cell \u001b[1;32mIn[49], line 1\u001b[0m\n\u001b[1;32m----> 1\u001b[0m e[\u001b[38;5;241m0\u001b[39m]\n",
      "\u001b[1;31mIndexError\u001b[0m: list index out of range"
     ]
    }
   ],
   "source": [
    "e[0]"
   ]
  },
  {
   "cell_type": "code",
   "execution_count": 50,
   "id": "1a0173ee",
   "metadata": {},
   "outputs": [],
   "source": [
    "e+=[20]"
   ]
  },
  {
   "cell_type": "code",
   "execution_count": 51,
   "id": "9dcd6aec",
   "metadata": {},
   "outputs": [
    {
     "data": {
      "text/plain": [
       "[20]"
      ]
     },
     "execution_count": 51,
     "metadata": {},
     "output_type": "execute_result"
    }
   ],
   "source": [
    "e"
   ]
  },
  {
   "cell_type": "code",
   "execution_count": 52,
   "id": "9336b8c3",
   "metadata": {},
   "outputs": [],
   "source": [
    "e+=[30]"
   ]
  },
  {
   "cell_type": "code",
   "execution_count": 53,
   "id": "b207ccc3",
   "metadata": {},
   "outputs": [
    {
     "data": {
      "text/plain": [
       "[20, 30]"
      ]
     },
     "execution_count": 53,
     "metadata": {},
     "output_type": "execute_result"
    }
   ],
   "source": [
    "e"
   ]
  },
  {
   "cell_type": "code",
   "execution_count": 55,
   "id": "9e932bfb",
   "metadata": {},
   "outputs": [
    {
     "data": {
      "text/plain": [
       "[[1, 2, 3], [4, 5, 6], [7, 8, 9]]"
      ]
     },
     "execution_count": 55,
     "metadata": {},
     "output_type": "execute_result"
    }
   ],
   "source": [
    "ol=[[1,2,3],[4,5,6],[7,8,9]]\n",
    "ol"
   ]
  },
  {
   "cell_type": "code",
   "execution_count": 59,
   "id": "5d670698",
   "metadata": {},
   "outputs": [
    {
     "data": {
      "text/plain": [
       "4"
      ]
     },
     "execution_count": 59,
     "metadata": {},
     "output_type": "execute_result"
    }
   ],
   "source": [
    "ol[1][0]"
   ]
  },
  {
   "cell_type": "code",
   "execution_count": 64,
   "id": "52ce9cd6",
   "metadata": {},
   "outputs": [
    {
     "data": {
      "text/plain": [
       "11"
      ]
     },
     "execution_count": 64,
     "metadata": {},
     "output_type": "execute_result"
    }
   ],
   "source": [
    "min(l)"
   ]
  },
  {
   "cell_type": "code",
   "execution_count": 63,
   "id": "287427aa",
   "metadata": {},
   "outputs": [
    {
     "data": {
      "text/plain": [
       "2222"
      ]
     },
     "execution_count": 63,
     "metadata": {},
     "output_type": "execute_result"
    }
   ],
   "source": [
    "max(l)"
   ]
  },
  {
   "cell_type": "code",
   "execution_count": 65,
   "id": "21a0a2aa",
   "metadata": {},
   "outputs": [
    {
     "data": {
      "text/plain": [
       "[11, 22, 23, 23, 65, 99, 222, 990, 2222]"
      ]
     },
     "execution_count": 65,
     "metadata": {},
     "output_type": "execute_result"
    }
   ],
   "source": [
    "sorted(l)"
   ]
  },
  {
   "cell_type": "code",
   "execution_count": 68,
   "id": "f4818304",
   "metadata": {},
   "outputs": [
    {
     "data": {
      "text/plain": [
       "[2222, 990, 222, 99, 65, 23, 23, 22, 11]"
      ]
     },
     "execution_count": 68,
     "metadata": {},
     "output_type": "execute_result"
    }
   ],
   "source": [
    "sorted(l,reverse=True)"
   ]
  },
  {
   "cell_type": "markdown",
   "id": "5d011d93",
   "metadata": {},
   "source": [
    " Methods"
   ]
  },
  {
   "cell_type": "code",
   "execution_count": 70,
   "id": "10e08567",
   "metadata": {},
   "outputs": [],
   "source": [
    "lt=[11,22,44,66,88,33,66,22]"
   ]
  },
  {
   "cell_type": "code",
   "execution_count": 71,
   "id": "b5308ce8",
   "metadata": {},
   "outputs": [],
   "source": [
    "lt.append(99)# adds only single element in the end"
   ]
  },
  {
   "cell_type": "code",
   "execution_count": 72,
   "id": "e6621180",
   "metadata": {},
   "outputs": [
    {
     "data": {
      "text/plain": [
       "[11, 22, 44, 66, 88, 33, 66, 22, 99]"
      ]
     },
     "execution_count": 72,
     "metadata": {},
     "output_type": "execute_result"
    }
   ],
   "source": [
    "lt"
   ]
  },
  {
   "cell_type": "code",
   "execution_count": 73,
   "id": "c1313600",
   "metadata": {},
   "outputs": [],
   "source": [
    "y=[1,2,3]"
   ]
  },
  {
   "cell_type": "code",
   "execution_count": 74,
   "id": "1fc01f98",
   "metadata": {},
   "outputs": [],
   "source": [
    "lt.extend(y)#adds multiple elements or a list in a list"
   ]
  },
  {
   "cell_type": "code",
   "execution_count": 75,
   "id": "146af666",
   "metadata": {},
   "outputs": [
    {
     "data": {
      "text/plain": [
       "[11, 22, 44, 66, 88, 33, 66, 22, 99, 1, 2, 3]"
      ]
     },
     "execution_count": 75,
     "metadata": {},
     "output_type": "execute_result"
    }
   ],
   "source": [
    "lt"
   ]
  },
  {
   "cell_type": "code",
   "execution_count": 76,
   "id": "51abc96b",
   "metadata": {},
   "outputs": [],
   "source": [
    "#insert\n",
    "lt.insert(2,101)"
   ]
  },
  {
   "cell_type": "code",
   "execution_count": 77,
   "id": "132c8425",
   "metadata": {},
   "outputs": [
    {
     "data": {
      "text/plain": [
       "[11, 22, 101, 44, 66, 88, 33, 66, 22, 99, 1, 2, 3]"
      ]
     },
     "execution_count": 77,
     "metadata": {},
     "output_type": "execute_result"
    }
   ],
   "source": [
    "lt"
   ]
  },
  {
   "cell_type": "code",
   "execution_count": 79,
   "id": "7c2be4b6",
   "metadata": {},
   "outputs": [],
   "source": [
    "lt.remove(101)"
   ]
  },
  {
   "cell_type": "code",
   "execution_count": 80,
   "id": "9b98f5b3",
   "metadata": {},
   "outputs": [
    {
     "data": {
      "text/plain": [
       "[11, 22, 44, 66, 88, 33, 66, 22, 99, 1, 2, 3]"
      ]
     },
     "execution_count": 80,
     "metadata": {},
     "output_type": "execute_result"
    }
   ],
   "source": [
    "lt"
   ]
  },
  {
   "cell_type": "code",
   "execution_count": 85,
   "id": "3e8b56fa",
   "metadata": {},
   "outputs": [
    {
     "ename": "IndexError",
     "evalue": "pop from empty list",
     "output_type": "error",
     "traceback": [
      "\u001b[1;31m---------------------------------------------------------------------------\u001b[0m",
      "\u001b[1;31mIndexError\u001b[0m                                Traceback (most recent call last)",
      "Cell \u001b[1;32mIn[85], line 1\u001b[0m\n\u001b[1;32m----> 1\u001b[0m lt\u001b[38;5;241m.\u001b[39mpop(\u001b[38;5;241m-\u001b[39m\u001b[38;5;241m4\u001b[39m)\n",
      "\u001b[1;31mIndexError\u001b[0m: pop from empty list"
     ]
    }
   ],
   "source": [
    "lt.pop(-4)"
   ]
  },
  {
   "cell_type": "code",
   "execution_count": 82,
   "id": "46beeb57",
   "metadata": {},
   "outputs": [
    {
     "data": {
      "text/plain": [
       "[11, 22, 44, 66, 88, 33, 66, 22, 1, 2, 3]"
      ]
     },
     "execution_count": 82,
     "metadata": {},
     "output_type": "execute_result"
    }
   ],
   "source": [
    "lt"
   ]
  },
  {
   "cell_type": "code",
   "execution_count": 83,
   "id": "a20d2630",
   "metadata": {},
   "outputs": [],
   "source": [
    "lt.clear()"
   ]
  },
  {
   "cell_type": "code",
   "execution_count": 84,
   "id": "2774ac71",
   "metadata": {},
   "outputs": [
    {
     "data": {
      "text/plain": [
       "[]"
      ]
     },
     "execution_count": 84,
     "metadata": {},
     "output_type": "execute_result"
    }
   ],
   "source": [
    "lt"
   ]
  },
  {
   "cell_type": "markdown",
   "id": "46d8575b",
   "metadata": {},
   "source": [
    "### Tuple"
   ]
  },
  {
   "cell_type": "markdown",
   "id": "d403da03",
   "metadata": {},
   "source": [
    "* The Difference between a list and tuple is that tuples are immutable\n",
    "* But the tuple data can be updated by converting it to a list and again converting back to tuple"
   ]
  },
  {
   "cell_type": "code",
   "execution_count": 89,
   "id": "4be4717c",
   "metadata": {},
   "outputs": [],
   "source": [
    "t=(2,3.5,'ABCD',66,99,66)"
   ]
  },
  {
   "cell_type": "code",
   "execution_count": 90,
   "id": "1cca426a",
   "metadata": {},
   "outputs": [
    {
     "data": {
      "text/plain": [
       "(2, 3.5, 'ABCD', 66, 99, 66)"
      ]
     },
     "execution_count": 90,
     "metadata": {},
     "output_type": "execute_result"
    }
   ],
   "source": [
    "t"
   ]
  },
  {
   "cell_type": "code",
   "execution_count": 91,
   "id": "a66b35be",
   "metadata": {},
   "outputs": [
    {
     "data": {
      "text/plain": [
       "tuple"
      ]
     },
     "execution_count": 91,
     "metadata": {},
     "output_type": "execute_result"
    }
   ],
   "source": [
    "type(t)"
   ]
  },
  {
   "cell_type": "code",
   "execution_count": 92,
   "id": "7822f117",
   "metadata": {},
   "outputs": [
    {
     "data": {
      "text/plain": [
       "2"
      ]
     },
     "execution_count": 92,
     "metadata": {},
     "output_type": "execute_result"
    }
   ],
   "source": [
    "t[0]"
   ]
  },
  {
   "cell_type": "code",
   "execution_count": 93,
   "id": "1072ba5d",
   "metadata": {},
   "outputs": [
    {
     "ename": "TypeError",
     "evalue": "'tuple' object does not support item assignment",
     "output_type": "error",
     "traceback": [
      "\u001b[1;31m---------------------------------------------------------------------------\u001b[0m",
      "\u001b[1;31mTypeError\u001b[0m                                 Traceback (most recent call last)",
      "Cell \u001b[1;32mIn[93], line 1\u001b[0m\n\u001b[1;32m----> 1\u001b[0m t[\u001b[38;5;241m0\u001b[39m]\u001b[38;5;241m=\u001b[39m\u001b[38;5;241m4\u001b[39m\n",
      "\u001b[1;31mTypeError\u001b[0m: 'tuple' object does not support item assignment"
     ]
    }
   ],
   "source": [
    "t[0]=4"
   ]
  },
  {
   "cell_type": "code",
   "execution_count": 95,
   "id": "ef8221ee",
   "metadata": {},
   "outputs": [
    {
     "data": {
      "text/plain": [
       "1"
      ]
     },
     "execution_count": 95,
     "metadata": {},
     "output_type": "execute_result"
    }
   ],
   "source": [
    "t.index(3.5)"
   ]
  },
  {
   "cell_type": "markdown",
   "id": "0255e252",
   "metadata": {},
   "source": [
    "### Dictionary"
   ]
  },
  {
   "cell_type": "code",
   "execution_count": 96,
   "id": "feeeb481",
   "metadata": {},
   "outputs": [],
   "source": [
    "d1={1:45,2:67,3:45,4:68}"
   ]
  },
  {
   "cell_type": "code",
   "execution_count": 97,
   "id": "75861d9b",
   "metadata": {},
   "outputs": [
    {
     "data": {
      "text/plain": [
       "{1: 45, 2: 67, 3: 45, 4: 68}"
      ]
     },
     "execution_count": 97,
     "metadata": {},
     "output_type": "execute_result"
    }
   ],
   "source": [
    "d1"
   ]
  },
  {
   "cell_type": "code",
   "execution_count": 98,
   "id": "b7dd8abd",
   "metadata": {},
   "outputs": [
    {
     "data": {
      "text/plain": [
       "dict"
      ]
     },
     "execution_count": 98,
     "metadata": {},
     "output_type": "execute_result"
    }
   ],
   "source": [
    "type(d1)"
   ]
  },
  {
   "cell_type": "code",
   "execution_count": 99,
   "id": "f2b21ca4",
   "metadata": {},
   "outputs": [
    {
     "data": {
      "text/plain": [
       "45"
      ]
     },
     "execution_count": 99,
     "metadata": {},
     "output_type": "execute_result"
    }
   ],
   "source": [
    "d1[1]"
   ]
  },
  {
   "cell_type": "code",
   "execution_count": 102,
   "id": "d80682fe",
   "metadata": {},
   "outputs": [],
   "source": [
    "d1[5]=49#adding new key"
   ]
  },
  {
   "cell_type": "code",
   "execution_count": 103,
   "id": "0268b0cd",
   "metadata": {},
   "outputs": [
    {
     "data": {
      "text/plain": [
       "{1: 45, 2: 67, 3: 45, 4: 68, 5: 49}"
      ]
     },
     "execution_count": 103,
     "metadata": {},
     "output_type": "execute_result"
    }
   ],
   "source": [
    "d1"
   ]
  },
  {
   "cell_type": "code",
   "execution_count": 104,
   "id": "721980f5",
   "metadata": {},
   "outputs": [
    {
     "data": {
      "text/plain": [
       "45"
      ]
     },
     "execution_count": 104,
     "metadata": {},
     "output_type": "execute_result"
    }
   ],
   "source": [
    "d1[3]"
   ]
  },
  {
   "cell_type": "code",
   "execution_count": 105,
   "id": "20fdc597",
   "metadata": {},
   "outputs": [],
   "source": [
    "d1[8]=100"
   ]
  },
  {
   "cell_type": "code",
   "execution_count": 106,
   "id": "722ba577",
   "metadata": {},
   "outputs": [
    {
     "data": {
      "text/plain": [
       "100"
      ]
     },
     "execution_count": 106,
     "metadata": {},
     "output_type": "execute_result"
    }
   ],
   "source": [
    "d1[8]"
   ]
  },
  {
   "cell_type": "code",
   "execution_count": 107,
   "id": "47674df8",
   "metadata": {},
   "outputs": [
    {
     "data": {
      "text/plain": [
       "{1: 45, 2: 67, 3: 45, 4: 68, 5: 49, 8: 100}"
      ]
     },
     "execution_count": 107,
     "metadata": {},
     "output_type": "execute_result"
    }
   ],
   "source": [
    "d1"
   ]
  },
  {
   "cell_type": "code",
   "execution_count": 108,
   "id": "4692d85c",
   "metadata": {},
   "outputs": [
    {
     "ename": "KeyError",
     "evalue": "10",
     "output_type": "error",
     "traceback": [
      "\u001b[1;31m---------------------------------------------------------------------------\u001b[0m",
      "\u001b[1;31mKeyError\u001b[0m                                  Traceback (most recent call last)",
      "Cell \u001b[1;32mIn[108], line 1\u001b[0m\n\u001b[1;32m----> 1\u001b[0m d1[\u001b[38;5;241m10\u001b[39m]\n",
      "\u001b[1;31mKeyError\u001b[0m: 10"
     ]
    }
   ],
   "source": [
    "d1[10]"
   ]
  },
  {
   "cell_type": "code",
   "execution_count": 110,
   "id": "eb97e22a",
   "metadata": {},
   "outputs": [],
   "source": [
    "d1[10]=[1,11,111]"
   ]
  },
  {
   "cell_type": "code",
   "execution_count": 111,
   "id": "bacf8e8d",
   "metadata": {},
   "outputs": [
    {
     "data": {
      "text/plain": [
       "{1: 45, 2: 67, 3: 45, 4: 68, 5: 49, 8: 100, 10: [1, 11, 111]}"
      ]
     },
     "execution_count": 111,
     "metadata": {},
     "output_type": "execute_result"
    }
   ],
   "source": [
    "d1"
   ]
  },
  {
   "cell_type": "code",
   "execution_count": 112,
   "id": "2d3987ba",
   "metadata": {},
   "outputs": [],
   "source": [
    "d1['a']='Apple'"
   ]
  },
  {
   "cell_type": "code",
   "execution_count": 113,
   "id": "3ed998e7",
   "metadata": {},
   "outputs": [
    {
     "data": {
      "text/plain": [
       "{1: 45, 2: 67, 3: 45, 4: 68, 5: 49, 8: 100, 10: [1, 11, 111], 'a': 'Apple'}"
      ]
     },
     "execution_count": 113,
     "metadata": {},
     "output_type": "execute_result"
    }
   ],
   "source": [
    "d1"
   ]
  },
  {
   "cell_type": "code",
   "execution_count": 114,
   "id": "fa58346e",
   "metadata": {},
   "outputs": [
    {
     "data": {
      "text/plain": [
       "[1, 2, 3, 4, 5, 8, 10, 'a']"
      ]
     },
     "execution_count": 114,
     "metadata": {},
     "output_type": "execute_result"
    }
   ],
   "source": [
    "list(d1.keys())"
   ]
  },
  {
   "cell_type": "code",
   "execution_count": 115,
   "id": "a1d21b62",
   "metadata": {},
   "outputs": [
    {
     "data": {
      "text/plain": [
       "[45, 67, 45, 68, 49, 100, [1, 11, 111], 'Apple']"
      ]
     },
     "execution_count": 115,
     "metadata": {},
     "output_type": "execute_result"
    }
   ],
   "source": [
    "list(d1.values())"
   ]
  },
  {
   "cell_type": "code",
   "execution_count": 116,
   "id": "12274a4d",
   "metadata": {},
   "outputs": [
    {
     "data": {
      "text/plain": [
       "[(1, 45),\n",
       " (2, 67),\n",
       " (3, 45),\n",
       " (4, 68),\n",
       " (5, 49),\n",
       " (8, 100),\n",
       " (10, [1, 11, 111]),\n",
       " ('a', 'Apple')]"
      ]
     },
     "execution_count": 116,
     "metadata": {},
     "output_type": "execute_result"
    }
   ],
   "source": [
    "list(d1.items())"
   ]
  },
  {
   "cell_type": "markdown",
   "id": "3623e889",
   "metadata": {},
   "source": [
    "### Set"
   ]
  },
  {
   "cell_type": "markdown",
   "id": "708f7efe",
   "metadata": {},
   "source": [
    "* Unordered\n",
    "* No Duplicate data"
   ]
  },
  {
   "cell_type": "code",
   "execution_count": 119,
   "id": "e9340bb7",
   "metadata": {},
   "outputs": [],
   "source": [
    "s={11,22,55,67,88,33,11,33}"
   ]
  },
  {
   "cell_type": "code",
   "execution_count": 120,
   "id": "100e67fe",
   "metadata": {},
   "outputs": [
    {
     "data": {
      "text/plain": [
       "{11, 22, 33, 55, 67, 88}"
      ]
     },
     "execution_count": 120,
     "metadata": {},
     "output_type": "execute_result"
    }
   ],
   "source": [
    "s"
   ]
  },
  {
   "cell_type": "code",
   "execution_count": 121,
   "id": "19f9085e",
   "metadata": {},
   "outputs": [
    {
     "data": {
      "text/plain": [
       "set"
      ]
     },
     "execution_count": 121,
     "metadata": {},
     "output_type": "execute_result"
    }
   ],
   "source": [
    "type(s)"
   ]
  },
  {
   "cell_type": "code",
   "execution_count": 125,
   "id": "7e292082",
   "metadata": {},
   "outputs": [],
   "source": [
    "s.add(68)"
   ]
  },
  {
   "cell_type": "code",
   "execution_count": 126,
   "id": "342b98d8",
   "metadata": {},
   "outputs": [
    {
     "data": {
      "text/plain": [
       "{11, 22, 33, 55, 67, 68, 88}"
      ]
     },
     "execution_count": 126,
     "metadata": {},
     "output_type": "execute_result"
    }
   ],
   "source": [
    "s"
   ]
  },
  {
   "cell_type": "code",
   "execution_count": null,
   "id": "24f0475d",
   "metadata": {},
   "outputs": [],
   "source": []
  }
 ],
 "metadata": {
  "kernelspec": {
   "display_name": "Python 3 (ipykernel)",
   "language": "python",
   "name": "python3"
  },
  "language_info": {
   "codemirror_mode": {
    "name": "ipython",
    "version": 3
   },
   "file_extension": ".py",
   "mimetype": "text/x-python",
   "name": "python",
   "nbconvert_exporter": "python",
   "pygments_lexer": "ipython3",
   "version": "3.11.3"
  }
 },
 "nbformat": 4,
 "nbformat_minor": 5
}
