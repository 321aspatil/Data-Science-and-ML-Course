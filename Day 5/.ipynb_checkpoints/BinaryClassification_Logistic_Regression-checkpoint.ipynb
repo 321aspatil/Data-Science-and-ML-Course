{
 "cells": [
  {
   "cell_type": "code",
   "execution_count": 1,
   "id": "3fecef1c",
   "metadata": {},
   "outputs": [],
   "source": [
    "import numpy as np\n",
    "import matplotlib.pyplot as plt\n",
    "import seaborn as sns\n",
    "import pandas as pd"
   ]
  },
  {
   "cell_type": "markdown",
   "id": "77a60320",
   "metadata": {},
   "source": [
    "#### Read dataset"
   ]
  },
  {
   "cell_type": "code",
   "execution_count": 2,
   "id": "8dfd038b",
   "metadata": {},
   "outputs": [
    {
     "ename": "NameError",
     "evalue": "name 'pd' is not defined",
     "output_type": "error",
     "traceback": [
      "\u001b[1;31m---------------------------------------------------------------------------\u001b[0m",
      "\u001b[1;31mNameError\u001b[0m                                 Traceback (most recent call last)",
      "Cell \u001b[1;32mIn[2], line 1\u001b[0m\n\u001b[1;32m----> 1\u001b[0m df\u001b[38;5;241m=\u001b[39mpd\u001b[38;5;241m.\u001b[39mread_csv(\u001b[38;5;124m'\u001b[39m\u001b[38;5;124mSocial_Network_Ads.csv\u001b[39m\u001b[38;5;124m'\u001b[39m)\n\u001b[0;32m      2\u001b[0m df\u001b[38;5;241m.\u001b[39mhead()\n",
      "\u001b[1;31mNameError\u001b[0m: name 'pd' is not defined"
     ]
    }
   ],
   "source": [
    "df=pd.read_csv('Social_Network_Ads.csv')\n",
    "df.head()"
   ]
  },
  {
   "cell_type": "markdown",
   "id": "2abf511c",
   "metadata": {},
   "source": [
    "### Separate the input and output data"
   ]
  },
  {
   "cell_type": "code",
   "execution_count": null,
   "id": "6bb6d34c",
   "metadata": {},
   "outputs": [],
   "source": [
    "x=df[['Age','EstimatedSalary']]\n",
    "y=df['Purchased']"
   ]
  },
  {
   "cell_type": "markdown",
   "id": "1dc8c445",
   "metadata": {},
   "source": [
    "### Output Variable Analysis"
   ]
  },
  {
   "cell_type": "code",
   "execution_count": null,
   "id": "422325fd",
   "metadata": {},
   "outputs": [],
   "source": [
    "#checking for unique output labels\n",
    "y.unique()"
   ]
  },
  {
   "cell_type": "code",
   "execution_count": null,
   "id": "8d650349",
   "metadata": {},
   "outputs": [],
   "source": [
    "#checking for unique output labels\n",
    "set(y)"
   ]
  },
  {
   "cell_type": "code",
   "execution_count": null,
   "id": "763fc790",
   "metadata": {},
   "outputs": [],
   "source": [
    "sns.countplot(x=y)"
   ]
  },
  {
   "cell_type": "code",
   "execution_count": null,
   "id": "9aab6dca",
   "metadata": {},
   "outputs": [],
   "source": [
    "y.value_counts() #gives count of unique classses"
   ]
  },
  {
   "cell_type": "code",
   "execution_count": null,
   "id": "13dce13a",
   "metadata": {},
   "outputs": [],
   "source": [
    "from collections import Counter\n",
    "Counter(y)#gives dictionary of unique classes with count"
   ]
  },
  {
   "cell_type": "code",
   "execution_count": null,
   "id": "bd9c7bc8",
   "metadata": {},
   "outputs": [],
   "source": [
    "#Percentage of unique classes data in dataset\n",
    "y.value_counts()[0]/len(y)*100,y.value_counts()[1]/len(y)*100"
   ]
  },
  {
   "cell_type": "markdown",
   "id": "1e10ed4a",
   "metadata": {},
   "source": [
    "### Input data Analysis"
   ]
  },
  {
   "cell_type": "code",
   "execution_count": null,
   "id": "8e0d58ab",
   "metadata": {},
   "outputs": [],
   "source": [
    "x.describe()"
   ]
  },
  {
   "cell_type": "code",
   "execution_count": null,
   "id": "06153c8f",
   "metadata": {},
   "outputs": [],
   "source": [
    "plt.xlabel('Age')\n",
    "plt.ylabel('Salary')\n",
    "plt.grid()\n",
    "plt.scatter(x['Age'],x['EstimatedSalary'],c=y)"
   ]
  },
  {
   "cell_type": "code",
   "execution_count": null,
   "id": "222ff414",
   "metadata": {},
   "outputs": [],
   "source": [
    "sns.jointplot(x='Age',y='EstimatedSalary',data=df,hue='Purchased')"
   ]
  },
  {
   "cell_type": "markdown",
   "id": "9e00544d",
   "metadata": {},
   "source": [
    "### Normalization"
   ]
  },
  {
   "cell_type": "markdown",
   "id": "c9784c9d",
   "metadata": {},
   "source": [
    "Normalization is required to make the scale of all the features same.This improves the performance and Stability of the model.Different features with different value ranges will be contributing to the output equally due to Normalization"
   ]
  },
  {
   "cell_type": "code",
   "execution_count": null,
   "id": "66c3cf59",
   "metadata": {},
   "outputs": [],
   "source": [
    "from sklearn.preprocessing import MinMaxScaler\n",
    "scaler=MinMaxScaler()\n",
    "x_scaled=scaler.fit_transform(x)"
   ]
  },
  {
   "cell_type": "code",
   "execution_count": null,
   "id": "d7128938",
   "metadata": {
    "scrolled": true
   },
   "outputs": [],
   "source": [
    "pd.DataFrame(x_scaled).describe()"
   ]
  },
  {
   "cell_type": "code",
   "execution_count": null,
   "id": "71c801df",
   "metadata": {},
   "outputs": [],
   "source": [
    "plt.xlabel('Age')\n",
    "plt.ylabel('Salary')\n",
    "plt.grid()\n",
    "plt.scatter(x_scaled[:,0],x_scaled[:,1],c=y)"
   ]
  },
  {
   "cell_type": "markdown",
   "id": "a6533a97",
   "metadata": {},
   "source": [
    "### Train Test Splieting"
   ]
  },
  {
   "cell_type": "code",
   "execution_count": null,
   "id": "a7100142",
   "metadata": {},
   "outputs": [],
   "source": [
    "from sklearn.model_selection import train_test_split"
   ]
  },
  {
   "cell_type": "code",
   "execution_count": null,
   "id": "4f9991b0",
   "metadata": {},
   "outputs": [],
   "source": [
    "x_train,x_test,y_train,y_test=train_test_split(x_scaled,y,random_state=0)"
   ]
  },
  {
   "cell_type": "code",
   "execution_count": null,
   "id": "94a7562d",
   "metadata": {},
   "outputs": [],
   "source": [
    "x_train,x_test,y_train,y_test"
   ]
  },
  {
   "cell_type": "markdown",
   "id": "7bfe179c",
   "metadata": {},
   "source": [
    "### Buid the model Logistic Regression model"
   ]
  },
  {
   "cell_type": "code",
   "execution_count": null,
   "id": "d59541ce",
   "metadata": {},
   "outputs": [],
   "source": [
    "from sklearn.linear_model import LogisticRegression"
   ]
  },
  {
   "cell_type": "code",
   "execution_count": null,
   "id": "86ab108d",
   "metadata": {},
   "outputs": [],
   "source": [
    "#create the object\n",
    "classifier=LogisticRegression()"
   ]
  },
  {
   "cell_type": "code",
   "execution_count": null,
   "id": "108b8021",
   "metadata": {},
   "outputs": [],
   "source": [
    "#train the algorithm\n",
    "classifier.fit(x_train,y_train)"
   ]
  },
  {
   "cell_type": "markdown",
   "id": "4f003874",
   "metadata": {},
   "source": [
    "### Predict on the test data"
   ]
  },
  {
   "cell_type": "code",
   "execution_count": null,
   "id": "29edc00c",
   "metadata": {},
   "outputs": [],
   "source": [
    "y_pred=classifier.predict(x_test)"
   ]
  },
  {
   "cell_type": "code",
   "execution_count": null,
   "id": "5ea19832",
   "metadata": {},
   "outputs": [],
   "source": [
    "y_test.values"
   ]
  },
  {
   "cell_type": "code",
   "execution_count": null,
   "id": "079da6e2",
   "metadata": {},
   "outputs": [],
   "source": [
    "y_pred"
   ]
  },
  {
   "cell_type": "markdown",
   "id": "6c8d4385",
   "metadata": {},
   "source": [
    "### Performance Evaluation"
   ]
  },
  {
   "cell_type": "code",
   "execution_count": null,
   "id": "d482a542",
   "metadata": {},
   "outputs": [],
   "source": [
    "from sklearn.metrics import ConfusionMatrixDisplay,classification_report\n",
    "from sklearn.metrics import accuracy_score,confusion_matrix"
   ]
  },
  {
   "cell_type": "code",
   "execution_count": null,
   "id": "1a476d9c",
   "metadata": {},
   "outputs": [],
   "source": [
    "ConfusionMatrixDisplay.from_predictions(y_test,y_pred)"
   ]
  },
  {
   "cell_type": "code",
   "execution_count": null,
   "id": "e4bd7afa",
   "metadata": {},
   "outputs": [],
   "source": [
    "accuracy_score(y_test,y_pred)"
   ]
  },
  {
   "cell_type": "code",
   "execution_count": null,
   "id": "a11a2ab0",
   "metadata": {},
   "outputs": [],
   "source": [
    "confusion_matrix(y_test,y_pred)"
   ]
  },
  {
   "cell_type": "code",
   "execution_count": null,
   "id": "d030f763",
   "metadata": {},
   "outputs": [],
   "source": [
    "print(classification_report(y_test,y_pred))"
   ]
  },
  {
   "cell_type": "code",
   "execution_count": null,
   "id": "f376c0d0",
   "metadata": {},
   "outputs": [],
   "source": [
    "#Recall is class accuracy"
   ]
  },
  {
   "cell_type": "code",
   "execution_count": null,
   "id": "c3a9bf15",
   "metadata": {},
   "outputs": [],
   "source": [
    "recall0=67/68\n",
    "recall0"
   ]
  },
  {
   "cell_type": "code",
   "execution_count": null,
   "id": "b8946bae",
   "metadata": {},
   "outputs": [],
   "source": [
    "recall1=22/32\n",
    "recall1"
   ]
  },
  {
   "cell_type": "code",
   "execution_count": null,
   "id": "c79d21f1",
   "metadata": {},
   "outputs": [],
   "source": [
    "#Precision positive predictive value\n",
    "precision0=67/77\n",
    "precision0"
   ]
  },
  {
   "cell_type": "code",
   "execution_count": null,
   "id": "320d95a2",
   "metadata": {},
   "outputs": [],
   "source": [
    "#Precision negative predictive value\n",
    "precision1=22/23\n",
    "precision1"
   ]
  },
  {
   "cell_type": "code",
   "execution_count": null,
   "id": "c71f0c13",
   "metadata": {},
   "outputs": [],
   "source": [
    "#testing with random new customer data\n",
    "newcust=[[23,25000],[48,123000]]#remember to transform/normalize the input data\n",
    "newcust_pred=classifier.predict(scaler.transform(newcust))\n",
    "newcust_pred"
   ]
  },
  {
   "cell_type": "code",
   "execution_count": null,
   "id": "69a4143b",
   "metadata": {},
   "outputs": [],
   "source": [
    "newcust_pred=classifier.predict_proba(scaler.transform(newcust))\n",
    "newcust_pred"
   ]
  },
  {
   "cell_type": "code",
   "execution_count": null,
   "id": "d045d0a6",
   "metadata": {},
   "outputs": [],
   "source": []
  }
 ],
 "metadata": {
  "kernelspec": {
   "display_name": "Python 3 (ipykernel)",
   "language": "python",
   "name": "python3"
  },
  "language_info": {
   "codemirror_mode": {
    "name": "ipython",
    "version": 3
   },
   "file_extension": ".py",
   "mimetype": "text/x-python",
   "name": "python",
   "nbconvert_exporter": "python",
   "pygments_lexer": "ipython3",
   "version": "3.11.3"
  }
 },
 "nbformat": 4,
 "nbformat_minor": 5
}
