{
 "cells": [
  {
   "cell_type": "code",
   "execution_count": 23,
   "id": "32d7c048",
   "metadata": {},
   "outputs": [],
   "source": [
    "import numpy as np\n",
    "import pandas as pd\n",
    "import matplotlib.pyplot as plt\n",
    "import seaborn as sns"
   ]
  },
  {
   "cell_type": "code",
   "execution_count": null,
   "id": "65d86c42",
   "metadata": {},
   "outputs": [],
   "source": []
  },
  {
   "cell_type": "code",
   "execution_count": null,
   "id": "9512bec0",
   "metadata": {},
   "outputs": [],
   "source": []
  },
  {
   "cell_type": "markdown",
   "id": "b8e326a5",
   "metadata": {},
   "source": [
    "### 1. Read the file in DataFrame"
   ]
  },
  {
   "cell_type": "code",
   "execution_count": 24,
   "id": "2a5ece15",
   "metadata": {},
   "outputs": [],
   "source": [
    "crkt_df=pd.read_csv('cricket.csv')"
   ]
  },
  {
   "cell_type": "code",
   "execution_count": 25,
   "id": "2df39bc2",
   "metadata": {},
   "outputs": [
    {
     "data": {
      "text/html": [
       "<div>\n",
       "<style scoped>\n",
       "    .dataframe tbody tr th:only-of-type {\n",
       "        vertical-align: middle;\n",
       "    }\n",
       "\n",
       "    .dataframe tbody tr th {\n",
       "        vertical-align: top;\n",
       "    }\n",
       "\n",
       "    .dataframe thead th {\n",
       "        text-align: right;\n",
       "    }\n",
       "</style>\n",
       "<table border=\"1\" class=\"dataframe\">\n",
       "  <thead>\n",
       "    <tr style=\"text-align: right;\">\n",
       "      <th></th>\n",
       "      <th>sr.no</th>\n",
       "      <th>name</th>\n",
       "      <th>matches</th>\n",
       "      <th>runs</th>\n",
       "      <th>catches</th>\n",
       "      <th>wickets</th>\n",
       "      <th>stumpings</th>\n",
       "    </tr>\n",
       "  </thead>\n",
       "  <tbody>\n",
       "    <tr>\n",
       "      <th>0</th>\n",
       "      <td>1</td>\n",
       "      <td>Anil Dalpat</td>\n",
       "      <td>122</td>\n",
       "      <td>6755</td>\n",
       "      <td>56</td>\n",
       "      <td>12</td>\n",
       "      <td>0</td>\n",
       "    </tr>\n",
       "    <tr>\n",
       "      <th>1</th>\n",
       "      <td>2</td>\n",
       "      <td>Rohan Kanhay</td>\n",
       "      <td>144</td>\n",
       "      <td>1256</td>\n",
       "      <td>76</td>\n",
       "      <td>178</td>\n",
       "      <td>0</td>\n",
       "    </tr>\n",
       "    <tr>\n",
       "      <th>2</th>\n",
       "      <td>3</td>\n",
       "      <td>Avdhoot Dighe</td>\n",
       "      <td>265</td>\n",
       "      <td>8954</td>\n",
       "      <td>120</td>\n",
       "      <td>0</td>\n",
       "      <td>0</td>\n",
       "    </tr>\n",
       "    <tr>\n",
       "      <th>3</th>\n",
       "      <td>4</td>\n",
       "      <td>Bahubali</td>\n",
       "      <td>10</td>\n",
       "      <td>756</td>\n",
       "      <td>6</td>\n",
       "      <td>11</td>\n",
       "      <td>3</td>\n",
       "    </tr>\n",
       "    <tr>\n",
       "      <th>4</th>\n",
       "      <td>5</td>\n",
       "      <td>Leeladhar</td>\n",
       "      <td>234</td>\n",
       "      <td>2866</td>\n",
       "      <td>105</td>\n",
       "      <td>376</td>\n",
       "      <td>0</td>\n",
       "    </tr>\n",
       "    <tr>\n",
       "      <th>5</th>\n",
       "      <td>6</td>\n",
       "      <td>Pradyumna</td>\n",
       "      <td>177</td>\n",
       "      <td>5877</td>\n",
       "      <td>47</td>\n",
       "      <td>122</td>\n",
       "      <td>0</td>\n",
       "    </tr>\n",
       "    <tr>\n",
       "      <th>6</th>\n",
       "      <td>7</td>\n",
       "      <td>Dinesh Roy</td>\n",
       "      <td>211</td>\n",
       "      <td>8537</td>\n",
       "      <td>112</td>\n",
       "      <td>16</td>\n",
       "      <td>0</td>\n",
       "    </tr>\n",
       "    <tr>\n",
       "      <th>7</th>\n",
       "      <td>8</td>\n",
       "      <td>Parmeshwar</td>\n",
       "      <td>245</td>\n",
       "      <td>9466</td>\n",
       "      <td>53</td>\n",
       "      <td>0</td>\n",
       "      <td>0</td>\n",
       "    </tr>\n",
       "    <tr>\n",
       "      <th>8</th>\n",
       "      <td>9</td>\n",
       "      <td>Ali Durrani</td>\n",
       "      <td>55</td>\n",
       "      <td>2756</td>\n",
       "      <td>12</td>\n",
       "      <td>26</td>\n",
       "      <td>0</td>\n",
       "    </tr>\n",
       "    <tr>\n",
       "      <th>9</th>\n",
       "      <td>10</td>\n",
       "      <td>Litesh Singh</td>\n",
       "      <td>89</td>\n",
       "      <td>1099</td>\n",
       "      <td>46</td>\n",
       "      <td>49</td>\n",
       "      <td>0</td>\n",
       "    </tr>\n",
       "  </tbody>\n",
       "</table>\n",
       "</div>"
      ],
      "text/plain": [
       "   sr.no           name  matches  runs  catches  wickets  stumpings\n",
       "0      1    Anil Dalpat      122  6755       56       12          0\n",
       "1      2   Rohan Kanhay      144  1256       76      178          0\n",
       "2      3  Avdhoot Dighe      265  8954      120        0          0\n",
       "3      4       Bahubali       10   756        6       11          3\n",
       "4      5      Leeladhar      234  2866      105      376          0\n",
       "5      6      Pradyumna      177  5877       47      122          0\n",
       "6      7     Dinesh Roy      211  8537      112       16          0\n",
       "7      8     Parmeshwar      245  9466       53        0          0\n",
       "8      9    Ali Durrani       55  2756       12       26          0\n",
       "9     10   Litesh Singh       89  1099       46       49          0"
      ]
     },
     "execution_count": 25,
     "metadata": {},
     "output_type": "execute_result"
    }
   ],
   "source": [
    "crkt_df"
   ]
  },
  {
   "cell_type": "markdown",
   "id": "5fe028b5",
   "metadata": {},
   "source": [
    "### 2. List the name of cricketer and their respective runs"
   ]
  },
  {
   "cell_type": "code",
   "execution_count": 26,
   "id": "85830ae7",
   "metadata": {},
   "outputs": [
    {
     "data": {
      "text/html": [
       "<div>\n",
       "<style scoped>\n",
       "    .dataframe tbody tr th:only-of-type {\n",
       "        vertical-align: middle;\n",
       "    }\n",
       "\n",
       "    .dataframe tbody tr th {\n",
       "        vertical-align: top;\n",
       "    }\n",
       "\n",
       "    .dataframe thead th {\n",
       "        text-align: right;\n",
       "    }\n",
       "</style>\n",
       "<table border=\"1\" class=\"dataframe\">\n",
       "  <thead>\n",
       "    <tr style=\"text-align: right;\">\n",
       "      <th></th>\n",
       "      <th>name</th>\n",
       "      <th>runs</th>\n",
       "    </tr>\n",
       "  </thead>\n",
       "  <tbody>\n",
       "    <tr>\n",
       "      <th>0</th>\n",
       "      <td>Anil Dalpat</td>\n",
       "      <td>6755</td>\n",
       "    </tr>\n",
       "    <tr>\n",
       "      <th>1</th>\n",
       "      <td>Rohan Kanhay</td>\n",
       "      <td>1256</td>\n",
       "    </tr>\n",
       "    <tr>\n",
       "      <th>2</th>\n",
       "      <td>Avdhoot Dighe</td>\n",
       "      <td>8954</td>\n",
       "    </tr>\n",
       "    <tr>\n",
       "      <th>3</th>\n",
       "      <td>Bahubali</td>\n",
       "      <td>756</td>\n",
       "    </tr>\n",
       "    <tr>\n",
       "      <th>4</th>\n",
       "      <td>Leeladhar</td>\n",
       "      <td>2866</td>\n",
       "    </tr>\n",
       "    <tr>\n",
       "      <th>5</th>\n",
       "      <td>Pradyumna</td>\n",
       "      <td>5877</td>\n",
       "    </tr>\n",
       "    <tr>\n",
       "      <th>6</th>\n",
       "      <td>Dinesh Roy</td>\n",
       "      <td>8537</td>\n",
       "    </tr>\n",
       "    <tr>\n",
       "      <th>7</th>\n",
       "      <td>Parmeshwar</td>\n",
       "      <td>9466</td>\n",
       "    </tr>\n",
       "    <tr>\n",
       "      <th>8</th>\n",
       "      <td>Ali Durrani</td>\n",
       "      <td>2756</td>\n",
       "    </tr>\n",
       "    <tr>\n",
       "      <th>9</th>\n",
       "      <td>Litesh Singh</td>\n",
       "      <td>1099</td>\n",
       "    </tr>\n",
       "  </tbody>\n",
       "</table>\n",
       "</div>"
      ],
      "text/plain": [
       "            name  runs\n",
       "0    Anil Dalpat  6755\n",
       "1   Rohan Kanhay  1256\n",
       "2  Avdhoot Dighe  8954\n",
       "3       Bahubali   756\n",
       "4      Leeladhar  2866\n",
       "5      Pradyumna  5877\n",
       "6     Dinesh Roy  8537\n",
       "7     Parmeshwar  9466\n",
       "8    Ali Durrani  2756\n",
       "9   Litesh Singh  1099"
      ]
     },
     "execution_count": 26,
     "metadata": {},
     "output_type": "execute_result"
    }
   ],
   "source": [
    "crkt_df.iloc[:,[1,3]]"
   ]
  },
  {
   "cell_type": "code",
   "execution_count": 27,
   "id": "21d7d78f",
   "metadata": {
    "scrolled": true
   },
   "outputs": [
    {
     "data": {
      "text/html": [
       "<div>\n",
       "<style scoped>\n",
       "    .dataframe tbody tr th:only-of-type {\n",
       "        vertical-align: middle;\n",
       "    }\n",
       "\n",
       "    .dataframe tbody tr th {\n",
       "        vertical-align: top;\n",
       "    }\n",
       "\n",
       "    .dataframe thead th {\n",
       "        text-align: right;\n",
       "    }\n",
       "</style>\n",
       "<table border=\"1\" class=\"dataframe\">\n",
       "  <thead>\n",
       "    <tr style=\"text-align: right;\">\n",
       "      <th></th>\n",
       "      <th>name</th>\n",
       "      <th>runs</th>\n",
       "    </tr>\n",
       "  </thead>\n",
       "  <tbody>\n",
       "    <tr>\n",
       "      <th>0</th>\n",
       "      <td>Anil Dalpat</td>\n",
       "      <td>6755</td>\n",
       "    </tr>\n",
       "    <tr>\n",
       "      <th>1</th>\n",
       "      <td>Rohan Kanhay</td>\n",
       "      <td>1256</td>\n",
       "    </tr>\n",
       "    <tr>\n",
       "      <th>2</th>\n",
       "      <td>Avdhoot Dighe</td>\n",
       "      <td>8954</td>\n",
       "    </tr>\n",
       "    <tr>\n",
       "      <th>3</th>\n",
       "      <td>Bahubali</td>\n",
       "      <td>756</td>\n",
       "    </tr>\n",
       "    <tr>\n",
       "      <th>4</th>\n",
       "      <td>Leeladhar</td>\n",
       "      <td>2866</td>\n",
       "    </tr>\n",
       "    <tr>\n",
       "      <th>5</th>\n",
       "      <td>Pradyumna</td>\n",
       "      <td>5877</td>\n",
       "    </tr>\n",
       "    <tr>\n",
       "      <th>6</th>\n",
       "      <td>Dinesh Roy</td>\n",
       "      <td>8537</td>\n",
       "    </tr>\n",
       "    <tr>\n",
       "      <th>7</th>\n",
       "      <td>Parmeshwar</td>\n",
       "      <td>9466</td>\n",
       "    </tr>\n",
       "    <tr>\n",
       "      <th>8</th>\n",
       "      <td>Ali Durrani</td>\n",
       "      <td>2756</td>\n",
       "    </tr>\n",
       "    <tr>\n",
       "      <th>9</th>\n",
       "      <td>Litesh Singh</td>\n",
       "      <td>1099</td>\n",
       "    </tr>\n",
       "  </tbody>\n",
       "</table>\n",
       "</div>"
      ],
      "text/plain": [
       "            name  runs\n",
       "0    Anil Dalpat  6755\n",
       "1   Rohan Kanhay  1256\n",
       "2  Avdhoot Dighe  8954\n",
       "3       Bahubali   756\n",
       "4      Leeladhar  2866\n",
       "5      Pradyumna  5877\n",
       "6     Dinesh Roy  8537\n",
       "7     Parmeshwar  9466\n",
       "8    Ali Durrani  2756\n",
       "9   Litesh Singh  1099"
      ]
     },
     "execution_count": 27,
     "metadata": {},
     "output_type": "execute_result"
    }
   ],
   "source": [
    "crkt_df.loc[:,['name','runs']]"
   ]
  },
  {
   "cell_type": "code",
   "execution_count": 28,
   "id": "928a0f38",
   "metadata": {},
   "outputs": [
    {
     "data": {
      "text/html": [
       "<div>\n",
       "<style scoped>\n",
       "    .dataframe tbody tr th:only-of-type {\n",
       "        vertical-align: middle;\n",
       "    }\n",
       "\n",
       "    .dataframe tbody tr th {\n",
       "        vertical-align: top;\n",
       "    }\n",
       "\n",
       "    .dataframe thead th {\n",
       "        text-align: right;\n",
       "    }\n",
       "</style>\n",
       "<table border=\"1\" class=\"dataframe\">\n",
       "  <thead>\n",
       "    <tr style=\"text-align: right;\">\n",
       "      <th></th>\n",
       "      <th>name</th>\n",
       "      <th>runs</th>\n",
       "    </tr>\n",
       "  </thead>\n",
       "  <tbody>\n",
       "    <tr>\n",
       "      <th>0</th>\n",
       "      <td>Anil Dalpat</td>\n",
       "      <td>6755</td>\n",
       "    </tr>\n",
       "    <tr>\n",
       "      <th>1</th>\n",
       "      <td>Rohan Kanhay</td>\n",
       "      <td>1256</td>\n",
       "    </tr>\n",
       "    <tr>\n",
       "      <th>2</th>\n",
       "      <td>Avdhoot Dighe</td>\n",
       "      <td>8954</td>\n",
       "    </tr>\n",
       "    <tr>\n",
       "      <th>3</th>\n",
       "      <td>Bahubali</td>\n",
       "      <td>756</td>\n",
       "    </tr>\n",
       "    <tr>\n",
       "      <th>4</th>\n",
       "      <td>Leeladhar</td>\n",
       "      <td>2866</td>\n",
       "    </tr>\n",
       "    <tr>\n",
       "      <th>5</th>\n",
       "      <td>Pradyumna</td>\n",
       "      <td>5877</td>\n",
       "    </tr>\n",
       "    <tr>\n",
       "      <th>6</th>\n",
       "      <td>Dinesh Roy</td>\n",
       "      <td>8537</td>\n",
       "    </tr>\n",
       "    <tr>\n",
       "      <th>7</th>\n",
       "      <td>Parmeshwar</td>\n",
       "      <td>9466</td>\n",
       "    </tr>\n",
       "    <tr>\n",
       "      <th>8</th>\n",
       "      <td>Ali Durrani</td>\n",
       "      <td>2756</td>\n",
       "    </tr>\n",
       "    <tr>\n",
       "      <th>9</th>\n",
       "      <td>Litesh Singh</td>\n",
       "      <td>1099</td>\n",
       "    </tr>\n",
       "  </tbody>\n",
       "</table>\n",
       "</div>"
      ],
      "text/plain": [
       "            name  runs\n",
       "0    Anil Dalpat  6755\n",
       "1   Rohan Kanhay  1256\n",
       "2  Avdhoot Dighe  8954\n",
       "3       Bahubali   756\n",
       "4      Leeladhar  2866\n",
       "5      Pradyumna  5877\n",
       "6     Dinesh Roy  8537\n",
       "7     Parmeshwar  9466\n",
       "8    Ali Durrani  2756\n",
       "9   Litesh Singh  1099"
      ]
     },
     "execution_count": 28,
     "metadata": {},
     "output_type": "execute_result"
    }
   ],
   "source": [
    "crkt_df[['name','runs']]"
   ]
  },
  {
   "cell_type": "markdown",
   "id": "7bddbd9b",
   "metadata": {},
   "source": [
    "### 3. Find total wickets taken by them"
   ]
  },
  {
   "cell_type": "code",
   "execution_count": 29,
   "id": "7ff75622",
   "metadata": {},
   "outputs": [
    {
     "data": {
      "text/plain": [
       "790"
      ]
     },
     "execution_count": 29,
     "metadata": {},
     "output_type": "execute_result"
    }
   ],
   "source": [
    "crkt_df['wickets'].sum()"
   ]
  },
  {
   "cell_type": "markdown",
   "id": "c6fbd727",
   "metadata": {},
   "source": [
    "### 4. Find average of catches taken"
   ]
  },
  {
   "cell_type": "code",
   "execution_count": 30,
   "id": "f9b6d2c9",
   "metadata": {},
   "outputs": [
    {
     "data": {
      "text/plain": [
       "63.3"
      ]
     },
     "execution_count": 30,
     "metadata": {},
     "output_type": "execute_result"
    }
   ],
   "source": [
    "crkt_df['catches'].mean()"
   ]
  },
  {
   "cell_type": "markdown",
   "id": "9c931b8a",
   "metadata": {},
   "source": [
    "### 5. Find the name of wicketkeeper"
   ]
  },
  {
   "cell_type": "code",
   "execution_count": 31,
   "id": "97a07824",
   "metadata": {},
   "outputs": [],
   "source": [
    "#the wicketkeeper is the one with zero wickets the one\n",
    "wkt_keeper=crkt_df[(crkt_df['stumpings']>0)]"
   ]
  },
  {
   "cell_type": "code",
   "execution_count": 32,
   "id": "c432523f",
   "metadata": {},
   "outputs": [
    {
     "data": {
      "text/html": [
       "<div>\n",
       "<style scoped>\n",
       "    .dataframe tbody tr th:only-of-type {\n",
       "        vertical-align: middle;\n",
       "    }\n",
       "\n",
       "    .dataframe tbody tr th {\n",
       "        vertical-align: top;\n",
       "    }\n",
       "\n",
       "    .dataframe thead th {\n",
       "        text-align: right;\n",
       "    }\n",
       "</style>\n",
       "<table border=\"1\" class=\"dataframe\">\n",
       "  <thead>\n",
       "    <tr style=\"text-align: right;\">\n",
       "      <th></th>\n",
       "      <th>sr.no</th>\n",
       "      <th>name</th>\n",
       "      <th>matches</th>\n",
       "      <th>runs</th>\n",
       "      <th>catches</th>\n",
       "      <th>wickets</th>\n",
       "      <th>stumpings</th>\n",
       "    </tr>\n",
       "  </thead>\n",
       "  <tbody>\n",
       "    <tr>\n",
       "      <th>3</th>\n",
       "      <td>4</td>\n",
       "      <td>Bahubali</td>\n",
       "      <td>10</td>\n",
       "      <td>756</td>\n",
       "      <td>6</td>\n",
       "      <td>11</td>\n",
       "      <td>3</td>\n",
       "    </tr>\n",
       "  </tbody>\n",
       "</table>\n",
       "</div>"
      ],
      "text/plain": [
       "   sr.no      name  matches  runs  catches  wickets  stumpings\n",
       "3      4  Bahubali       10   756        6       11          3"
      ]
     },
     "execution_count": 32,
     "metadata": {},
     "output_type": "execute_result"
    }
   ],
   "source": [
    "wkt_keeper"
   ]
  },
  {
   "cell_type": "markdown",
   "id": "b6c9aa62",
   "metadata": {},
   "source": [
    "### 6. print the name of bowler who played highest number of matches"
   ]
  },
  {
   "cell_type": "code",
   "execution_count": 34,
   "id": "c5f428da",
   "metadata": {},
   "outputs": [
    {
     "data": {
      "text/html": [
       "<div>\n",
       "<style scoped>\n",
       "    .dataframe tbody tr th:only-of-type {\n",
       "        vertical-align: middle;\n",
       "    }\n",
       "\n",
       "    .dataframe tbody tr th {\n",
       "        vertical-align: top;\n",
       "    }\n",
       "\n",
       "    .dataframe thead th {\n",
       "        text-align: right;\n",
       "    }\n",
       "</style>\n",
       "<table border=\"1\" class=\"dataframe\">\n",
       "  <thead>\n",
       "    <tr style=\"text-align: right;\">\n",
       "      <th></th>\n",
       "      <th>sr.no</th>\n",
       "      <th>name</th>\n",
       "      <th>matches</th>\n",
       "      <th>runs</th>\n",
       "      <th>catches</th>\n",
       "      <th>wickets</th>\n",
       "      <th>stumpings</th>\n",
       "    </tr>\n",
       "  </thead>\n",
       "  <tbody>\n",
       "    <tr>\n",
       "      <th>0</th>\n",
       "      <td>1</td>\n",
       "      <td>Anil Dalpat</td>\n",
       "      <td>122</td>\n",
       "      <td>6755</td>\n",
       "      <td>56</td>\n",
       "      <td>12</td>\n",
       "      <td>0</td>\n",
       "    </tr>\n",
       "    <tr>\n",
       "      <th>1</th>\n",
       "      <td>2</td>\n",
       "      <td>Rohan Kanhay</td>\n",
       "      <td>144</td>\n",
       "      <td>1256</td>\n",
       "      <td>76</td>\n",
       "      <td>178</td>\n",
       "      <td>0</td>\n",
       "    </tr>\n",
       "    <tr>\n",
       "      <th>3</th>\n",
       "      <td>4</td>\n",
       "      <td>Bahubali</td>\n",
       "      <td>10</td>\n",
       "      <td>756</td>\n",
       "      <td>6</td>\n",
       "      <td>11</td>\n",
       "      <td>3</td>\n",
       "    </tr>\n",
       "    <tr>\n",
       "      <th>4</th>\n",
       "      <td>5</td>\n",
       "      <td>Leeladhar</td>\n",
       "      <td>234</td>\n",
       "      <td>2866</td>\n",
       "      <td>105</td>\n",
       "      <td>376</td>\n",
       "      <td>0</td>\n",
       "    </tr>\n",
       "    <tr>\n",
       "      <th>5</th>\n",
       "      <td>6</td>\n",
       "      <td>Pradyumna</td>\n",
       "      <td>177</td>\n",
       "      <td>5877</td>\n",
       "      <td>47</td>\n",
       "      <td>122</td>\n",
       "      <td>0</td>\n",
       "    </tr>\n",
       "    <tr>\n",
       "      <th>6</th>\n",
       "      <td>7</td>\n",
       "      <td>Dinesh Roy</td>\n",
       "      <td>211</td>\n",
       "      <td>8537</td>\n",
       "      <td>112</td>\n",
       "      <td>16</td>\n",
       "      <td>0</td>\n",
       "    </tr>\n",
       "    <tr>\n",
       "      <th>8</th>\n",
       "      <td>9</td>\n",
       "      <td>Ali Durrani</td>\n",
       "      <td>55</td>\n",
       "      <td>2756</td>\n",
       "      <td>12</td>\n",
       "      <td>26</td>\n",
       "      <td>0</td>\n",
       "    </tr>\n",
       "    <tr>\n",
       "      <th>9</th>\n",
       "      <td>10</td>\n",
       "      <td>Litesh Singh</td>\n",
       "      <td>89</td>\n",
       "      <td>1099</td>\n",
       "      <td>46</td>\n",
       "      <td>49</td>\n",
       "      <td>0</td>\n",
       "    </tr>\n",
       "  </tbody>\n",
       "</table>\n",
       "</div>"
      ],
      "text/plain": [
       "   sr.no          name  matches  runs  catches  wickets  stumpings\n",
       "0      1   Anil Dalpat      122  6755       56       12          0\n",
       "1      2  Rohan Kanhay      144  1256       76      178          0\n",
       "3      4      Bahubali       10   756        6       11          3\n",
       "4      5     Leeladhar      234  2866      105      376          0\n",
       "5      6     Pradyumna      177  5877       47      122          0\n",
       "6      7    Dinesh Roy      211  8537      112       16          0\n",
       "8      9   Ali Durrani       55  2756       12       26          0\n",
       "9     10  Litesh Singh       89  1099       46       49          0"
      ]
     },
     "execution_count": 34,
     "metadata": {},
     "output_type": "execute_result"
    }
   ],
   "source": [
    "#getting all the bowlers\n",
    "bwr_list=crkt_df[crkt_df['wickets']>0]\n",
    "bwr_list"
   ]
  },
  {
   "cell_type": "code",
   "execution_count": 35,
   "id": "096dd1b9",
   "metadata": {
    "scrolled": true
   },
   "outputs": [
    {
     "data": {
      "text/plain": [
       "0     Anil Dalpat\n",
       "1    Rohan Kanhay\n",
       "3        Bahubali\n",
       "4       Leeladhar\n",
       "5       Pradyumna\n",
       "6      Dinesh Roy\n",
       "8     Ali Durrani\n",
       "9    Litesh Singh\n",
       "Name: name, dtype: object"
      ]
     },
     "execution_count": 35,
     "metadata": {},
     "output_type": "execute_result"
    }
   ],
   "source": [
    "#getting highest match played bowler\n",
    "bwr_list['name']"
   ]
  },
  {
   "cell_type": "code",
   "execution_count": 39,
   "id": "8768df00",
   "metadata": {},
   "outputs": [],
   "source": [
    "sorted_bwl=bwr_list.sort_values('matches',ascending=False)"
   ]
  },
  {
   "cell_type": "code",
   "execution_count": 41,
   "id": "601740fe",
   "metadata": {},
   "outputs": [
    {
     "data": {
      "text/plain": [
       "'Leeladhar'"
      ]
     },
     "execution_count": 41,
     "metadata": {},
     "output_type": "execute_result"
    }
   ],
   "source": [
    "sorted_bwl.iloc[0,1]"
   ]
  },
  {
   "cell_type": "markdown",
   "id": "1af161d7",
   "metadata": {},
   "source": [
    "### 7. Find average of all the bowlers"
   ]
  },
  {
   "cell_type": "code",
   "execution_count": 42,
   "id": "29d5b99a",
   "metadata": {},
   "outputs": [],
   "source": [
    "bwr_list=crkt_df[crkt_df['wickets']>0]"
   ]
  },
  {
   "cell_type": "code",
   "execution_count": 43,
   "id": "8f3f6a44",
   "metadata": {},
   "outputs": [
    {
     "data": {
      "text/plain": [
       "98.75"
      ]
     },
     "execution_count": 43,
     "metadata": {},
     "output_type": "execute_result"
    }
   ],
   "source": [
    "bwr_list['wickets'].mean()"
   ]
  },
  {
   "cell_type": "markdown",
   "id": "86daba9d",
   "metadata": {},
   "source": [
    "### 8. Find name of the bowler with least bowling average"
   ]
  },
  {
   "cell_type": "code",
   "execution_count": 44,
   "id": "f4f44cc8",
   "metadata": {},
   "outputs": [],
   "source": [
    "bowl_avg=bwr_list['wickets']/bwr_list['matches']"
   ]
  },
  {
   "cell_type": "code",
   "execution_count": 45,
   "id": "e221138f",
   "metadata": {},
   "outputs": [
    {
     "data": {
      "text/plain": [
       "6"
      ]
     },
     "execution_count": 45,
     "metadata": {},
     "output_type": "execute_result"
    }
   ],
   "source": [
    "bowl_avg.idxmin()"
   ]
  },
  {
   "cell_type": "code",
   "execution_count": 46,
   "id": "06bea010",
   "metadata": {},
   "outputs": [
    {
     "data": {
      "text/plain": [
       "'Ali Durrani'"
      ]
     },
     "execution_count": 46,
     "metadata": {},
     "output_type": "execute_result"
    }
   ],
   "source": [
    "bwr_list.iloc[bowl_avg.idxmin(),1]"
   ]
  },
  {
   "cell_type": "markdown",
   "id": "50ea62f3",
   "metadata": {},
   "source": [
    "### 9. Print information about all players whose catches per match ratio is greater than 0.5 store it in a csv file"
   ]
  },
  {
   "cell_type": "code",
   "execution_count": 47,
   "id": "7abc414e",
   "metadata": {},
   "outputs": [
    {
     "name": "stdout",
     "output_type": "stream",
     "text": [
      "Information about players with catch per match ratio > 0.5 saved to high_catch_ratio_players.csv\n"
     ]
    }
   ],
   "source": [
    "high_catch_ratio_players = crkt_df[crkt_df['catches'] / crkt_df['matches'] > 0.5]\n",
    "high_catch_ratio_players.to_csv(\"high_catch_ratio_players.csv\", index=False)\n",
    "print(\"Information about players with catch per match ratio > 0.5 saved to high_catch_ratio_players.csv\")"
   ]
  },
  {
   "cell_type": "code",
   "execution_count": null,
   "id": "13598869",
   "metadata": {
    "scrolled": true
   },
   "outputs": [],
   "source": []
  },
  {
   "cell_type": "code",
   "execution_count": null,
   "id": "081f6157",
   "metadata": {},
   "outputs": [],
   "source": []
  },
  {
   "cell_type": "markdown",
   "id": "ba1aaf50",
   "metadata": {},
   "source": [
    "### 10. Draw the bar chart of playr name against their runs"
   ]
  },
  {
   "cell_type": "code",
   "execution_count": 48,
   "id": "852e7589",
   "metadata": {},
   "outputs": [
    {
     "data": {
      "text/plain": [
       "Text(0, 0.5, 'Runs')"
      ]
     },
     "execution_count": 48,
     "metadata": {},
     "output_type": "execute_result"
    },
    {
     "data": {
      "image/png": "[encoded data removed]",
      "text/plain": [
       "<Figure size 1000x600 with 1 Axes>"
      ]
     },
     "metadata": {},
     "output_type": "display_data"
    }
   ],
   "source": [
    "plt.figure(figsize=(10,6))\n",
    "plt.bar(crkt_df['name'],crkt_df['runs']);\n",
    "plt.title('Player vs Runs')\n",
    "plt.xlabel('Player Name')\n",
    "plt.ylabel('Runs')"
   ]
  },
  {
   "cell_type": "markdown",
   "id": "37c8fbce",
   "metadata": {},
   "source": [
    "### 11. Sort and print information about players by ascending order of runs"
   ]
  },
  {
   "cell_type": "code",
   "execution_count": 20,
   "id": "a1b9edbf",
   "metadata": {},
   "outputs": [],
   "source": [
    "crkt_df.sort_values('runs')"
   ]
  },
  {
   "cell_type": "markdown",
   "id": "9bb55a62",
   "metadata": {},
   "source": [
    "### 12. print the names of players whose wickets are greater than matches"
   ]
  },
  {
   "cell_type": "code",
   "execution_count": 21,
   "id": "8ab64acc",
   "metadata": {},
   "outputs": [],
   "source": [
    "ply=crkt_df[crkt_df['wickets']>crkt_df['matches']]\n",
    "ply"
   ]
  },
  {
   "cell_type": "code",
   "execution_count": null,
   "id": "9dca7844",
   "metadata": {},
   "outputs": [],
   "source": []
  }
 ],
 "metadata": {
  "kernelspec": {
   "display_name": "Python 3 (ipykernel)",
   "language": "python",
   "name": "python3"
  },
  "language_info": {
   "codemirror_mode": {
    "name": "ipython",
    "version": 3
   },
   "file_extension": ".py",
   "mimetype": "text/x-python",
   "name": "python",
   "nbconvert_exporter": "python",
   "pygments_lexer": "ipython3",
   "version": "3.11.3"
  }
 },
 "nbformat": 4,
 "nbformat_minor": 5
}
